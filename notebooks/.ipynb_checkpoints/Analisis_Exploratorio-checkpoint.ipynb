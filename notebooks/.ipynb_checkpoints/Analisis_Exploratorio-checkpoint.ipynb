{
 "cells": [
  {
   "cell_type": "markdown",
   "id": "743531b8-1314-40aa-80ad-c2daf7ec3046",
   "metadata": {},
   "source": [
    "# Librerias"
   ]
  },
  {
   "cell_type": "code",
   "execution_count": 1,
   "id": "be6ecd1e-74d9-4539-9e13-3190e44a8f2b",
   "metadata": {},
   "outputs": [],
   "source": [
    "# Esto son las funciones y que se importan al archivo para procesar los datos. \n",
    "\n",
    "import numpy as np\n",
    "import openpyxl\n",
    "import pandas as pd\n",
    "import datetime\n",
    "from math import floor\n",
    "import os\n",
    "import seaborn as sb\n",
    "import matplotlib.pyplot as plt\n",
    "import time\n",
    "import re\n",
    "import warnings\n",
    "import ast\n",
    "\n",
    "# Ejemplo advertencias de librerias desactualizadas\n",
    "warnings.filterwarnings(\"ignore\")\n",
    "\n",
    "# Configuración para que al imprimir las tablas se vean completas hasta 90 columnas\n",
    "pd.options.display.max_columns = 90"
   ]
  },
  {
   "cell_type": "markdown",
   "id": "e5f91e37-7041-47b5-8f98-deba5df6bc28",
   "metadata": {},
   "source": [
    "# Paths"
   ]
  },
  {
   "cell_type": "code",
   "execution_count": 2,
   "id": "746800fa-4372-46f6-9612-293b70f447c2",
   "metadata": {},
   "outputs": [],
   "source": [
    "pathPrints = \"../data/raw/prints.json\"\n",
    "pathTaps = \"../data/raw/taps.json\"\n",
    "pathPayments = \"../data/raw/pays.csv\""
   ]
  },
  {
   "cell_type": "markdown",
   "id": "794371f6-df6f-471f-821f-e006e4e625c7",
   "metadata": {},
   "source": [
    "# Carga fuentes de datos"
   ]
  },
  {
   "cell_type": "markdown",
   "id": "7b062764-d1c3-4c13-b33e-d19893a109b4",
   "metadata": {},
   "source": [
    "## Prints"
   ]
  },
  {
   "cell_type": "code",
   "execution_count": 3,
   "id": "ae6aa66a-9a76-4ece-a33f-43fd872de703",
   "metadata": {},
   "outputs": [],
   "source": [
    "df_prints = pd.read_json(pathPrints, lines=True)"
   ]
  },
  {
   "cell_type": "code",
   "execution_count": 4,
   "id": "8d03d378-218b-4577-8b20-90626323125d",
   "metadata": {},
   "outputs": [
    {
     "name": "stdout",
     "output_type": "stream",
     "text": [
      "Dimensiones del datase prints: (508617, 3)\n"
     ]
    },
    {
     "data": {
      "text/html": [
       "<div>\n",
       "<style scoped>\n",
       "    .dataframe tbody tr th:only-of-type {\n",
       "        vertical-align: middle;\n",
       "    }\n",
       "\n",
       "    .dataframe tbody tr th {\n",
       "        vertical-align: top;\n",
       "    }\n",
       "\n",
       "    .dataframe thead th {\n",
       "        text-align: right;\n",
       "    }\n",
       "</style>\n",
       "<table border=\"1\" class=\"dataframe\">\n",
       "  <thead>\n",
       "    <tr style=\"text-align: right;\">\n",
       "      <th></th>\n",
       "      <th>day</th>\n",
       "      <th>event_data</th>\n",
       "      <th>user_id</th>\n",
       "    </tr>\n",
       "  </thead>\n",
       "  <tbody>\n",
       "    <tr>\n",
       "      <th>0</th>\n",
       "      <td>2020-11-01</td>\n",
       "      <td>{'position': 0, 'value_prop': 'cellphone_recha...</td>\n",
       "      <td>98702</td>\n",
       "    </tr>\n",
       "    <tr>\n",
       "      <th>1</th>\n",
       "      <td>2020-11-01</td>\n",
       "      <td>{'position': 1, 'value_prop': 'prepaid'}</td>\n",
       "      <td>98702</td>\n",
       "    </tr>\n",
       "    <tr>\n",
       "      <th>2</th>\n",
       "      <td>2020-11-01</td>\n",
       "      <td>{'position': 0, 'value_prop': 'prepaid'}</td>\n",
       "      <td>63252</td>\n",
       "    </tr>\n",
       "    <tr>\n",
       "      <th>3</th>\n",
       "      <td>2020-11-01</td>\n",
       "      <td>{'position': 0, 'value_prop': 'cellphone_recha...</td>\n",
       "      <td>24728</td>\n",
       "    </tr>\n",
       "    <tr>\n",
       "      <th>4</th>\n",
       "      <td>2020-11-01</td>\n",
       "      <td>{'position': 1, 'value_prop': 'link_cobro'}</td>\n",
       "      <td>24728</td>\n",
       "    </tr>\n",
       "  </tbody>\n",
       "</table>\n",
       "</div>"
      ],
      "text/plain": [
       "          day                                         event_data  user_id\n",
       "0  2020-11-01  {'position': 0, 'value_prop': 'cellphone_recha...    98702\n",
       "1  2020-11-01           {'position': 1, 'value_prop': 'prepaid'}    98702\n",
       "2  2020-11-01           {'position': 0, 'value_prop': 'prepaid'}    63252\n",
       "3  2020-11-01  {'position': 0, 'value_prop': 'cellphone_recha...    24728\n",
       "4  2020-11-01        {'position': 1, 'value_prop': 'link_cobro'}    24728"
      ]
     },
     "execution_count": 4,
     "metadata": {},
     "output_type": "execute_result"
    }
   ],
   "source": [
    "print(f\"Dimensiones del datase prints: {df_prints.shape}\")\n",
    "df_prints.head(5)"
   ]
  },
  {
   "cell_type": "code",
   "execution_count": 5,
   "id": "858c7862-b98f-45e1-8100-4e741aa1ab9e",
   "metadata": {},
   "outputs": [
    {
     "name": "stdout",
     "output_type": "stream",
     "text": [
      "<class 'pandas.core.frame.DataFrame'>\n",
      "Index: 508617 entries, 0 to 508616\n",
      "Data columns (total 3 columns):\n",
      " #   Column      Non-Null Count   Dtype \n",
      "---  ------      --------------   ----- \n",
      " 0   day         508617 non-null  object\n",
      " 1   event_data  508617 non-null  object\n",
      " 2   user_id     508617 non-null  int64 \n",
      "dtypes: int64(1), object(2)\n",
      "memory usage: 15.5+ MB\n"
     ]
    }
   ],
   "source": [
    "df_prints.info()"
   ]
  },
  {
   "cell_type": "code",
   "execution_count": 6,
   "id": "de5cb093-7853-47e1-81f1-a6f29d8c60cf",
   "metadata": {},
   "outputs": [],
   "source": [
    "# Sacamos la informacion del Json de event_data a columnas\n",
    "df_prints = df_prints.join(pd.json_normalize(df_prints[\"event_data\"]))"
   ]
  },
  {
   "cell_type": "code",
   "execution_count": 7,
   "id": "ab2e6e35-f319-47dc-ab38-c643dea0288b",
   "metadata": {},
   "outputs": [
    {
     "data": {
      "text/html": [
       "<div>\n",
       "<style scoped>\n",
       "    .dataframe tbody tr th:only-of-type {\n",
       "        vertical-align: middle;\n",
       "    }\n",
       "\n",
       "    .dataframe tbody tr th {\n",
       "        vertical-align: top;\n",
       "    }\n",
       "\n",
       "    .dataframe thead th {\n",
       "        text-align: right;\n",
       "    }\n",
       "</style>\n",
       "<table border=\"1\" class=\"dataframe\">\n",
       "  <thead>\n",
       "    <tr style=\"text-align: right;\">\n",
       "      <th></th>\n",
       "      <th>day</th>\n",
       "      <th>event_data</th>\n",
       "      <th>user_id</th>\n",
       "      <th>position</th>\n",
       "      <th>value_prop</th>\n",
       "    </tr>\n",
       "  </thead>\n",
       "  <tbody>\n",
       "    <tr>\n",
       "      <th>0</th>\n",
       "      <td>2020-11-01</td>\n",
       "      <td>{'position': 0, 'value_prop': 'cellphone_recha...</td>\n",
       "      <td>98702</td>\n",
       "      <td>0</td>\n",
       "      <td>cellphone_recharge</td>\n",
       "    </tr>\n",
       "    <tr>\n",
       "      <th>1</th>\n",
       "      <td>2020-11-01</td>\n",
       "      <td>{'position': 1, 'value_prop': 'prepaid'}</td>\n",
       "      <td>98702</td>\n",
       "      <td>1</td>\n",
       "      <td>prepaid</td>\n",
       "    </tr>\n",
       "    <tr>\n",
       "      <th>2</th>\n",
       "      <td>2020-11-01</td>\n",
       "      <td>{'position': 0, 'value_prop': 'prepaid'}</td>\n",
       "      <td>63252</td>\n",
       "      <td>0</td>\n",
       "      <td>prepaid</td>\n",
       "    </tr>\n",
       "    <tr>\n",
       "      <th>3</th>\n",
       "      <td>2020-11-01</td>\n",
       "      <td>{'position': 0, 'value_prop': 'cellphone_recha...</td>\n",
       "      <td>24728</td>\n",
       "      <td>0</td>\n",
       "      <td>cellphone_recharge</td>\n",
       "    </tr>\n",
       "    <tr>\n",
       "      <th>4</th>\n",
       "      <td>2020-11-01</td>\n",
       "      <td>{'position': 1, 'value_prop': 'link_cobro'}</td>\n",
       "      <td>24728</td>\n",
       "      <td>1</td>\n",
       "      <td>link_cobro</td>\n",
       "    </tr>\n",
       "  </tbody>\n",
       "</table>\n",
       "</div>"
      ],
      "text/plain": [
       "          day                                         event_data  user_id  \\\n",
       "0  2020-11-01  {'position': 0, 'value_prop': 'cellphone_recha...    98702   \n",
       "1  2020-11-01           {'position': 1, 'value_prop': 'prepaid'}    98702   \n",
       "2  2020-11-01           {'position': 0, 'value_prop': 'prepaid'}    63252   \n",
       "3  2020-11-01  {'position': 0, 'value_prop': 'cellphone_recha...    24728   \n",
       "4  2020-11-01        {'position': 1, 'value_prop': 'link_cobro'}    24728   \n",
       "\n",
       "   position          value_prop  \n",
       "0         0  cellphone_recharge  \n",
       "1         1             prepaid  \n",
       "2         0             prepaid  \n",
       "3         0  cellphone_recharge  \n",
       "4         1          link_cobro  "
      ]
     },
     "execution_count": 7,
     "metadata": {},
     "output_type": "execute_result"
    }
   ],
   "source": [
    "df_prints.head(5)"
   ]
  },
  {
   "cell_type": "markdown",
   "id": "2264b213-919c-42a9-8552-568a5348e7e2",
   "metadata": {},
   "source": [
    "## Taps"
   ]
  },
  {
   "cell_type": "code",
   "execution_count": 8,
   "id": "44c5ed03-7b03-4432-b09b-481c87d15699",
   "metadata": {},
   "outputs": [],
   "source": [
    "df_taps = pd.read_json(pathTaps, lines=True)"
   ]
  },
  {
   "cell_type": "code",
   "execution_count": 9,
   "id": "f0a78b73-8498-40b9-8642-fe6e45450427",
   "metadata": {},
   "outputs": [
    {
     "name": "stdout",
     "output_type": "stream",
     "text": [
      "Dimensiones del dataset Taps: (50859, 3)\n"
     ]
    },
    {
     "data": {
      "text/html": [
       "<div>\n",
       "<style scoped>\n",
       "    .dataframe tbody tr th:only-of-type {\n",
       "        vertical-align: middle;\n",
       "    }\n",
       "\n",
       "    .dataframe tbody tr th {\n",
       "        vertical-align: top;\n",
       "    }\n",
       "\n",
       "    .dataframe thead th {\n",
       "        text-align: right;\n",
       "    }\n",
       "</style>\n",
       "<table border=\"1\" class=\"dataframe\">\n",
       "  <thead>\n",
       "    <tr style=\"text-align: right;\">\n",
       "      <th></th>\n",
       "      <th>day</th>\n",
       "      <th>event_data</th>\n",
       "      <th>user_id</th>\n",
       "    </tr>\n",
       "  </thead>\n",
       "  <tbody>\n",
       "    <tr>\n",
       "      <th>0</th>\n",
       "      <td>2020-11-01</td>\n",
       "      <td>{'position': 0, 'value_prop': 'cellphone_recha...</td>\n",
       "      <td>98702</td>\n",
       "    </tr>\n",
       "    <tr>\n",
       "      <th>1</th>\n",
       "      <td>2020-11-01</td>\n",
       "      <td>{'position': 2, 'value_prop': 'point'}</td>\n",
       "      <td>3708</td>\n",
       "    </tr>\n",
       "    <tr>\n",
       "      <th>2</th>\n",
       "      <td>2020-11-01</td>\n",
       "      <td>{'position': 3, 'value_prop': 'send_money'}</td>\n",
       "      <td>3708</td>\n",
       "    </tr>\n",
       "    <tr>\n",
       "      <th>3</th>\n",
       "      <td>2020-11-01</td>\n",
       "      <td>{'position': 0, 'value_prop': 'transport'}</td>\n",
       "      <td>93963</td>\n",
       "    </tr>\n",
       "    <tr>\n",
       "      <th>4</th>\n",
       "      <td>2020-11-01</td>\n",
       "      <td>{'position': 1, 'value_prop': 'cellphone_recha...</td>\n",
       "      <td>93963</td>\n",
       "    </tr>\n",
       "  </tbody>\n",
       "</table>\n",
       "</div>"
      ],
      "text/plain": [
       "          day                                         event_data  user_id\n",
       "0  2020-11-01  {'position': 0, 'value_prop': 'cellphone_recha...    98702\n",
       "1  2020-11-01             {'position': 2, 'value_prop': 'point'}     3708\n",
       "2  2020-11-01        {'position': 3, 'value_prop': 'send_money'}     3708\n",
       "3  2020-11-01         {'position': 0, 'value_prop': 'transport'}    93963\n",
       "4  2020-11-01  {'position': 1, 'value_prop': 'cellphone_recha...    93963"
      ]
     },
     "execution_count": 9,
     "metadata": {},
     "output_type": "execute_result"
    }
   ],
   "source": [
    "print(f\"Dimensiones del dataset Taps: {df_taps.shape}\")\n",
    "df_taps.head(5)"
   ]
  },
  {
   "cell_type": "code",
   "execution_count": 10,
   "id": "5ac8f929-afaa-41a5-877f-6c5724f6c28c",
   "metadata": {},
   "outputs": [
    {
     "name": "stdout",
     "output_type": "stream",
     "text": [
      "<class 'pandas.core.frame.DataFrame'>\n",
      "Index: 50859 entries, 0 to 50858\n",
      "Data columns (total 3 columns):\n",
      " #   Column      Non-Null Count  Dtype \n",
      "---  ------      --------------  ----- \n",
      " 0   day         50859 non-null  object\n",
      " 1   event_data  50859 non-null  object\n",
      " 2   user_id     50859 non-null  int64 \n",
      "dtypes: int64(1), object(2)\n",
      "memory usage: 1.6+ MB\n"
     ]
    }
   ],
   "source": [
    "df_taps.info()"
   ]
  },
  {
   "cell_type": "code",
   "execution_count": 11,
   "id": "55fcd9e8-f173-4064-8208-2a7a16b26963",
   "metadata": {},
   "outputs": [],
   "source": [
    "# Sacamos la informacion del Json de event_data a columnas\n",
    "df_taps = df_taps.join(pd.json_normalize(df_taps[\"event_data\"]))"
   ]
  },
  {
   "cell_type": "code",
   "execution_count": 12,
   "id": "356e6e4f-1126-4c59-a42d-bc2ceff4e1f7",
   "metadata": {},
   "outputs": [
    {
     "data": {
      "text/html": [
       "<div>\n",
       "<style scoped>\n",
       "    .dataframe tbody tr th:only-of-type {\n",
       "        vertical-align: middle;\n",
       "    }\n",
       "\n",
       "    .dataframe tbody tr th {\n",
       "        vertical-align: top;\n",
       "    }\n",
       "\n",
       "    .dataframe thead th {\n",
       "        text-align: right;\n",
       "    }\n",
       "</style>\n",
       "<table border=\"1\" class=\"dataframe\">\n",
       "  <thead>\n",
       "    <tr style=\"text-align: right;\">\n",
       "      <th></th>\n",
       "      <th>day</th>\n",
       "      <th>event_data</th>\n",
       "      <th>user_id</th>\n",
       "      <th>position</th>\n",
       "      <th>value_prop</th>\n",
       "    </tr>\n",
       "  </thead>\n",
       "  <tbody>\n",
       "    <tr>\n",
       "      <th>0</th>\n",
       "      <td>2020-11-01</td>\n",
       "      <td>{'position': 0, 'value_prop': 'cellphone_recha...</td>\n",
       "      <td>98702</td>\n",
       "      <td>0</td>\n",
       "      <td>cellphone_recharge</td>\n",
       "    </tr>\n",
       "    <tr>\n",
       "      <th>1</th>\n",
       "      <td>2020-11-01</td>\n",
       "      <td>{'position': 2, 'value_prop': 'point'}</td>\n",
       "      <td>3708</td>\n",
       "      <td>2</td>\n",
       "      <td>point</td>\n",
       "    </tr>\n",
       "    <tr>\n",
       "      <th>2</th>\n",
       "      <td>2020-11-01</td>\n",
       "      <td>{'position': 3, 'value_prop': 'send_money'}</td>\n",
       "      <td>3708</td>\n",
       "      <td>3</td>\n",
       "      <td>send_money</td>\n",
       "    </tr>\n",
       "    <tr>\n",
       "      <th>3</th>\n",
       "      <td>2020-11-01</td>\n",
       "      <td>{'position': 0, 'value_prop': 'transport'}</td>\n",
       "      <td>93963</td>\n",
       "      <td>0</td>\n",
       "      <td>transport</td>\n",
       "    </tr>\n",
       "    <tr>\n",
       "      <th>4</th>\n",
       "      <td>2020-11-01</td>\n",
       "      <td>{'position': 1, 'value_prop': 'cellphone_recha...</td>\n",
       "      <td>93963</td>\n",
       "      <td>1</td>\n",
       "      <td>cellphone_recharge</td>\n",
       "    </tr>\n",
       "  </tbody>\n",
       "</table>\n",
       "</div>"
      ],
      "text/plain": [
       "          day                                         event_data  user_id  \\\n",
       "0  2020-11-01  {'position': 0, 'value_prop': 'cellphone_recha...    98702   \n",
       "1  2020-11-01             {'position': 2, 'value_prop': 'point'}     3708   \n",
       "2  2020-11-01        {'position': 3, 'value_prop': 'send_money'}     3708   \n",
       "3  2020-11-01         {'position': 0, 'value_prop': 'transport'}    93963   \n",
       "4  2020-11-01  {'position': 1, 'value_prop': 'cellphone_recha...    93963   \n",
       "\n",
       "   position          value_prop  \n",
       "0         0  cellphone_recharge  \n",
       "1         2               point  \n",
       "2         3          send_money  \n",
       "3         0           transport  \n",
       "4         1  cellphone_recharge  "
      ]
     },
     "execution_count": 12,
     "metadata": {},
     "output_type": "execute_result"
    }
   ],
   "source": [
    "df_taps.head(5)"
   ]
  },
  {
   "cell_type": "markdown",
   "id": "a01181fb-1f79-42c1-88f1-bc7b836244a7",
   "metadata": {},
   "source": [
    "## Payments"
   ]
  },
  {
   "cell_type": "code",
   "execution_count": 13,
   "id": "784d6dc7-f28a-4088-aa88-466373d9b474",
   "metadata": {},
   "outputs": [],
   "source": [
    "df_pays = pd.read_csv(pathPayments)"
   ]
  },
  {
   "cell_type": "code",
   "execution_count": 14,
   "id": "43e01999-c179-4bb3-8563-4c804f2826d4",
   "metadata": {},
   "outputs": [
    {
     "name": "stdout",
     "output_type": "stream",
     "text": [
      "Dimensiones del dataset Payments: (756483, 4)\n"
     ]
    },
    {
     "data": {
      "text/html": [
       "<div>\n",
       "<style scoped>\n",
       "    .dataframe tbody tr th:only-of-type {\n",
       "        vertical-align: middle;\n",
       "    }\n",
       "\n",
       "    .dataframe tbody tr th {\n",
       "        vertical-align: top;\n",
       "    }\n",
       "\n",
       "    .dataframe thead th {\n",
       "        text-align: right;\n",
       "    }\n",
       "</style>\n",
       "<table border=\"1\" class=\"dataframe\">\n",
       "  <thead>\n",
       "    <tr style=\"text-align: right;\">\n",
       "      <th></th>\n",
       "      <th>pay_date</th>\n",
       "      <th>total</th>\n",
       "      <th>user_id</th>\n",
       "      <th>value_prop</th>\n",
       "    </tr>\n",
       "  </thead>\n",
       "  <tbody>\n",
       "    <tr>\n",
       "      <th>0</th>\n",
       "      <td>2020-11-01</td>\n",
       "      <td>7.04</td>\n",
       "      <td>35994</td>\n",
       "      <td>link_cobro</td>\n",
       "    </tr>\n",
       "    <tr>\n",
       "      <th>1</th>\n",
       "      <td>2020-11-01</td>\n",
       "      <td>37.36</td>\n",
       "      <td>79066</td>\n",
       "      <td>cellphone_recharge</td>\n",
       "    </tr>\n",
       "    <tr>\n",
       "      <th>2</th>\n",
       "      <td>2020-11-01</td>\n",
       "      <td>15.84</td>\n",
       "      <td>19321</td>\n",
       "      <td>cellphone_recharge</td>\n",
       "    </tr>\n",
       "    <tr>\n",
       "      <th>3</th>\n",
       "      <td>2020-11-01</td>\n",
       "      <td>26.26</td>\n",
       "      <td>19321</td>\n",
       "      <td>send_money</td>\n",
       "    </tr>\n",
       "    <tr>\n",
       "      <th>4</th>\n",
       "      <td>2020-11-01</td>\n",
       "      <td>35.35</td>\n",
       "      <td>38438</td>\n",
       "      <td>send_money</td>\n",
       "    </tr>\n",
       "  </tbody>\n",
       "</table>\n",
       "</div>"
      ],
      "text/plain": [
       "     pay_date  total  user_id          value_prop\n",
       "0  2020-11-01   7.04    35994          link_cobro\n",
       "1  2020-11-01  37.36    79066  cellphone_recharge\n",
       "2  2020-11-01  15.84    19321  cellphone_recharge\n",
       "3  2020-11-01  26.26    19321          send_money\n",
       "4  2020-11-01  35.35    38438          send_money"
      ]
     },
     "execution_count": 14,
     "metadata": {},
     "output_type": "execute_result"
    }
   ],
   "source": [
    "print(f\"Dimensiones del dataset Payments: {df_pays.shape}\")\n",
    "df_pays.head(5)"
   ]
  },
  {
   "cell_type": "markdown",
   "id": "10d9b5fb-54b8-4b09-9043-16ceb64bc4ec",
   "metadata": {},
   "source": [
    "# Base 1: Modelo Clasificacion"
   ]
  },
  {
   "cell_type": "markdown",
   "id": "f3a6f07b-365a-45ce-845e-9d440c24645e",
   "metadata": {},
   "source": [
    "## Transformacion Prints"
   ]
  },
  {
   "cell_type": "code",
   "execution_count": 15,
   "id": "8af83750-7f39-4e5c-9956-8673c696687e",
   "metadata": {},
   "outputs": [],
   "source": [
    "prints_grouped = (\n",
    "    df_prints.groupby([\"user_id\", \"value_prop\"])\n",
    "             .agg(prints_count=(\"value_prop\", \"count\"))\n",
    "             .reset_index()\n",
    ")\n"
   ]
  },
  {
   "cell_type": "code",
   "execution_count": 16,
   "id": "56aaf98f-361e-49ba-9e69-a298a08cb85c",
   "metadata": {},
   "outputs": [
    {
     "data": {
      "text/html": [
       "<div>\n",
       "<style scoped>\n",
       "    .dataframe tbody tr th:only-of-type {\n",
       "        vertical-align: middle;\n",
       "    }\n",
       "\n",
       "    .dataframe tbody tr th {\n",
       "        vertical-align: top;\n",
       "    }\n",
       "\n",
       "    .dataframe thead th {\n",
       "        text-align: right;\n",
       "    }\n",
       "</style>\n",
       "<table border=\"1\" class=\"dataframe\">\n",
       "  <thead>\n",
       "    <tr style=\"text-align: right;\">\n",
       "      <th></th>\n",
       "      <th>user_id</th>\n",
       "      <th>value_prop</th>\n",
       "      <th>prints_count</th>\n",
       "    </tr>\n",
       "  </thead>\n",
       "  <tbody>\n",
       "    <tr>\n",
       "      <th>0</th>\n",
       "      <td>1</td>\n",
       "      <td>cellphone_recharge</td>\n",
       "      <td>2</td>\n",
       "    </tr>\n",
       "    <tr>\n",
       "      <th>1</th>\n",
       "      <td>1</td>\n",
       "      <td>credits_consumer</td>\n",
       "      <td>2</td>\n",
       "    </tr>\n",
       "    <tr>\n",
       "      <th>2</th>\n",
       "      <td>1</td>\n",
       "      <td>link_cobro</td>\n",
       "      <td>4</td>\n",
       "    </tr>\n",
       "    <tr>\n",
       "      <th>3</th>\n",
       "      <td>1</td>\n",
       "      <td>point</td>\n",
       "      <td>2</td>\n",
       "    </tr>\n",
       "    <tr>\n",
       "      <th>4</th>\n",
       "      <td>1</td>\n",
       "      <td>prepaid</td>\n",
       "      <td>1</td>\n",
       "    </tr>\n",
       "  </tbody>\n",
       "</table>\n",
       "</div>"
      ],
      "text/plain": [
       "   user_id          value_prop  prints_count\n",
       "0        1  cellphone_recharge             2\n",
       "1        1    credits_consumer             2\n",
       "2        1          link_cobro             4\n",
       "3        1               point             2\n",
       "4        1             prepaid             1"
      ]
     },
     "execution_count": 16,
     "metadata": {},
     "output_type": "execute_result"
    }
   ],
   "source": [
    "prints_grouped.head(5)"
   ]
  },
  {
   "cell_type": "markdown",
   "id": "23d2cc39-d51f-47de-a0d0-2107a4320c79",
   "metadata": {},
   "source": [
    "## Transformación Taps"
   ]
  },
  {
   "cell_type": "code",
   "execution_count": 17,
   "id": "b4b91c48-19e3-4003-8baf-e7f678f8fbdd",
   "metadata": {},
   "outputs": [],
   "source": [
    "taps_grouped = (\n",
    "    df_taps.groupby([\"user_id\", \"value_prop\"])\n",
    "             .agg(taps_count=(\"value_prop\", \"count\"))\n",
    "             .reset_index()\n",
    ")"
   ]
  },
  {
   "cell_type": "code",
   "execution_count": 18,
   "id": "b5d3ec5a-0ed4-40ae-9f0f-e0818680ead1",
   "metadata": {},
   "outputs": [
    {
     "data": {
      "text/html": [
       "<div>\n",
       "<style scoped>\n",
       "    .dataframe tbody tr th:only-of-type {\n",
       "        vertical-align: middle;\n",
       "    }\n",
       "\n",
       "    .dataframe tbody tr th {\n",
       "        vertical-align: top;\n",
       "    }\n",
       "\n",
       "    .dataframe thead th {\n",
       "        text-align: right;\n",
       "    }\n",
       "</style>\n",
       "<table border=\"1\" class=\"dataframe\">\n",
       "  <thead>\n",
       "    <tr style=\"text-align: right;\">\n",
       "      <th></th>\n",
       "      <th>user_id</th>\n",
       "      <th>value_prop</th>\n",
       "      <th>taps_count</th>\n",
       "    </tr>\n",
       "  </thead>\n",
       "  <tbody>\n",
       "    <tr>\n",
       "      <th>0</th>\n",
       "      <td>1</td>\n",
       "      <td>link_cobro</td>\n",
       "      <td>1</td>\n",
       "    </tr>\n",
       "    <tr>\n",
       "      <th>1</th>\n",
       "      <td>3</td>\n",
       "      <td>point</td>\n",
       "      <td>1</td>\n",
       "    </tr>\n",
       "    <tr>\n",
       "      <th>2</th>\n",
       "      <td>4</td>\n",
       "      <td>link_cobro</td>\n",
       "      <td>1</td>\n",
       "    </tr>\n",
       "    <tr>\n",
       "      <th>3</th>\n",
       "      <td>4</td>\n",
       "      <td>prepaid</td>\n",
       "      <td>1</td>\n",
       "    </tr>\n",
       "    <tr>\n",
       "      <th>4</th>\n",
       "      <td>7</td>\n",
       "      <td>send_money</td>\n",
       "      <td>1</td>\n",
       "    </tr>\n",
       "  </tbody>\n",
       "</table>\n",
       "</div>"
      ],
      "text/plain": [
       "   user_id  value_prop  taps_count\n",
       "0        1  link_cobro           1\n",
       "1        3       point           1\n",
       "2        4  link_cobro           1\n",
       "3        4     prepaid           1\n",
       "4        7  send_money           1"
      ]
     },
     "execution_count": 18,
     "metadata": {},
     "output_type": "execute_result"
    }
   ],
   "source": [
    "taps_grouped.head(5)"
   ]
  },
  {
   "cell_type": "markdown",
   "id": "490b47e1-5fbd-41e5-819f-2893f2cc35ac",
   "metadata": {},
   "source": [
    "## Transformación Payments"
   ]
  },
  {
   "cell_type": "code",
   "execution_count": 19,
   "id": "cf77a22a-02e0-4f75-870b-05fa074993fa",
   "metadata": {},
   "outputs": [],
   "source": [
    "pays_grouped = (\n",
    "    df_pays.groupby([\"user_id\", \"value_prop\"])\n",
    "             .agg(pays_count=(\"value_prop\", \"count\"), pays_total=(\"total\", \"sum\"))\n",
    "             .reset_index()\n",
    ")"
   ]
  },
  {
   "cell_type": "code",
   "execution_count": 20,
   "id": "5265950d-7f44-42a7-9ea9-4bd299de3770",
   "metadata": {},
   "outputs": [
    {
     "data": {
      "text/html": [
       "<div>\n",
       "<style scoped>\n",
       "    .dataframe tbody tr th:only-of-type {\n",
       "        vertical-align: middle;\n",
       "    }\n",
       "\n",
       "    .dataframe tbody tr th {\n",
       "        vertical-align: top;\n",
       "    }\n",
       "\n",
       "    .dataframe thead th {\n",
       "        text-align: right;\n",
       "    }\n",
       "</style>\n",
       "<table border=\"1\" class=\"dataframe\">\n",
       "  <thead>\n",
       "    <tr style=\"text-align: right;\">\n",
       "      <th></th>\n",
       "      <th>user_id</th>\n",
       "      <th>value_prop</th>\n",
       "      <th>pays_count</th>\n",
       "      <th>pays_total</th>\n",
       "    </tr>\n",
       "  </thead>\n",
       "  <tbody>\n",
       "    <tr>\n",
       "      <th>0</th>\n",
       "      <td>1</td>\n",
       "      <td>cellphone_recharge</td>\n",
       "      <td>1</td>\n",
       "      <td>15.47</td>\n",
       "    </tr>\n",
       "    <tr>\n",
       "      <th>1</th>\n",
       "      <td>1</td>\n",
       "      <td>credits_consumer</td>\n",
       "      <td>1</td>\n",
       "      <td>37.92</td>\n",
       "    </tr>\n",
       "    <tr>\n",
       "      <th>2</th>\n",
       "      <td>1</td>\n",
       "      <td>link_cobro</td>\n",
       "      <td>1</td>\n",
       "      <td>137.14</td>\n",
       "    </tr>\n",
       "    <tr>\n",
       "      <th>3</th>\n",
       "      <td>1</td>\n",
       "      <td>transport</td>\n",
       "      <td>1</td>\n",
       "      <td>100.89</td>\n",
       "    </tr>\n",
       "    <tr>\n",
       "      <th>4</th>\n",
       "      <td>2</td>\n",
       "      <td>credits_consumer</td>\n",
       "      <td>1</td>\n",
       "      <td>15.21</td>\n",
       "    </tr>\n",
       "  </tbody>\n",
       "</table>\n",
       "</div>"
      ],
      "text/plain": [
       "   user_id          value_prop  pays_count  pays_total\n",
       "0        1  cellphone_recharge           1       15.47\n",
       "1        1    credits_consumer           1       37.92\n",
       "2        1          link_cobro           1      137.14\n",
       "3        1           transport           1      100.89\n",
       "4        2    credits_consumer           1       15.21"
      ]
     },
     "execution_count": 20,
     "metadata": {},
     "output_type": "execute_result"
    }
   ],
   "source": [
    "pays_grouped.head(5)"
   ]
  },
  {
   "cell_type": "markdown",
   "id": "623aff63-0d7f-4065-a86d-0f3975825969",
   "metadata": {},
   "source": [
    "## Marca si estuvo en las primeras 2 posiciones de recomendacion"
   ]
  },
  {
   "cell_type": "code",
   "execution_count": 21,
   "id": "4be67056-5707-4693-9c84-30969f7b1184",
   "metadata": {},
   "outputs": [],
   "source": [
    "top2_count = (\n",
    "    df_prints[df_prints[\"position\"] <= 1]\n",
    "    .groupby([\"user_id\", \"value_prop\"])\n",
    "    .agg(top2_count=(\"value_prop\", \"count\"))\n",
    ")\\\n",
    ".reset_index()"
   ]
  },
  {
   "cell_type": "code",
   "execution_count": 22,
   "id": "cd3488ad-f084-4b50-8f14-0bbd63b3986e",
   "metadata": {},
   "outputs": [
    {
     "data": {
      "text/html": [
       "<div>\n",
       "<style scoped>\n",
       "    .dataframe tbody tr th:only-of-type {\n",
       "        vertical-align: middle;\n",
       "    }\n",
       "\n",
       "    .dataframe tbody tr th {\n",
       "        vertical-align: top;\n",
       "    }\n",
       "\n",
       "    .dataframe thead th {\n",
       "        text-align: right;\n",
       "    }\n",
       "</style>\n",
       "<table border=\"1\" class=\"dataframe\">\n",
       "  <thead>\n",
       "    <tr style=\"text-align: right;\">\n",
       "      <th></th>\n",
       "      <th>user_id</th>\n",
       "      <th>value_prop</th>\n",
       "      <th>top2_count</th>\n",
       "    </tr>\n",
       "  </thead>\n",
       "  <tbody>\n",
       "    <tr>\n",
       "      <th>0</th>\n",
       "      <td>1</td>\n",
       "      <td>link_cobro</td>\n",
       "      <td>3</td>\n",
       "    </tr>\n",
       "    <tr>\n",
       "      <th>1</th>\n",
       "      <td>1</td>\n",
       "      <td>point</td>\n",
       "      <td>2</td>\n",
       "    </tr>\n",
       "    <tr>\n",
       "      <th>2</th>\n",
       "      <td>1</td>\n",
       "      <td>prepaid</td>\n",
       "      <td>1</td>\n",
       "    </tr>\n",
       "    <tr>\n",
       "      <th>3</th>\n",
       "      <td>1</td>\n",
       "      <td>send_money</td>\n",
       "      <td>2</td>\n",
       "    </tr>\n",
       "    <tr>\n",
       "      <th>4</th>\n",
       "      <td>1</td>\n",
       "      <td>transport</td>\n",
       "      <td>3</td>\n",
       "    </tr>\n",
       "  </tbody>\n",
       "</table>\n",
       "</div>"
      ],
      "text/plain": [
       "   user_id  value_prop  top2_count\n",
       "0        1  link_cobro           3\n",
       "1        1       point           2\n",
       "2        1     prepaid           1\n",
       "3        1  send_money           2\n",
       "4        1   transport           3"
      ]
     },
     "execution_count": 22,
     "metadata": {},
     "output_type": "execute_result"
    }
   ],
   "source": [
    "top2_count.head(5)"
   ]
  },
  {
   "cell_type": "markdown",
   "id": "9cb2a95c-7b1e-49a3-988d-d462c6992b81",
   "metadata": {},
   "source": [
    "## Cantidad de productos por cliente"
   ]
  },
  {
   "cell_type": "code",
   "execution_count": 23,
   "id": "3cecd9db-cdbc-4e64-9883-4f7dd10ee08d",
   "metadata": {},
   "outputs": [],
   "source": [
    "user_products = (\n",
    "    df_pays.groupby(\"user_id\")[\"value_prop\"]\n",
    "      .nunique()\n",
    "      .reset_index(name=\"count_productos\")\n",
    ")"
   ]
  },
  {
   "cell_type": "code",
   "execution_count": 24,
   "id": "42b339a8-83c0-4b7c-a73c-73fe33294a11",
   "metadata": {},
   "outputs": [
    {
     "data": {
      "text/html": [
       "<div>\n",
       "<style scoped>\n",
       "    .dataframe tbody tr th:only-of-type {\n",
       "        vertical-align: middle;\n",
       "    }\n",
       "\n",
       "    .dataframe tbody tr th {\n",
       "        vertical-align: top;\n",
       "    }\n",
       "\n",
       "    .dataframe thead th {\n",
       "        text-align: right;\n",
       "    }\n",
       "</style>\n",
       "<table border=\"1\" class=\"dataframe\">\n",
       "  <thead>\n",
       "    <tr style=\"text-align: right;\">\n",
       "      <th></th>\n",
       "      <th>user_id</th>\n",
       "      <th>count_productos</th>\n",
       "    </tr>\n",
       "  </thead>\n",
       "  <tbody>\n",
       "    <tr>\n",
       "      <th>0</th>\n",
       "      <td>1</td>\n",
       "      <td>4</td>\n",
       "    </tr>\n",
       "    <tr>\n",
       "      <th>1</th>\n",
       "      <td>2</td>\n",
       "      <td>6</td>\n",
       "    </tr>\n",
       "    <tr>\n",
       "      <th>2</th>\n",
       "      <td>3</td>\n",
       "      <td>5</td>\n",
       "    </tr>\n",
       "    <tr>\n",
       "      <th>3</th>\n",
       "      <td>4</td>\n",
       "      <td>4</td>\n",
       "    </tr>\n",
       "    <tr>\n",
       "      <th>4</th>\n",
       "      <td>5</td>\n",
       "      <td>5</td>\n",
       "    </tr>\n",
       "  </tbody>\n",
       "</table>\n",
       "</div>"
      ],
      "text/plain": [
       "   user_id  count_productos\n",
       "0        1                4\n",
       "1        2                6\n",
       "2        3                5\n",
       "3        4                4\n",
       "4        5                5"
      ]
     },
     "execution_count": 24,
     "metadata": {},
     "output_type": "execute_result"
    }
   ],
   "source": [
    "user_products.head(5)"
   ]
  },
  {
   "cell_type": "markdown",
   "id": "c75f4d28-ed54-4794-af82-95ee6ad2bb4c",
   "metadata": {},
   "source": [
    "## Estructura final para modelo clasificacion"
   ]
  },
  {
   "cell_type": "code",
   "execution_count": 25,
   "id": "455b176c-6aff-4392-b91d-2ced2ee07730",
   "metadata": {},
   "outputs": [],
   "source": [
    "# Extraer usuarios unicos\n",
    "\n",
    "df_users_prints = df_prints[[\"user_id\"]].copy()\n",
    "df_users_prints = df_users_prints.drop_duplicates()\n",
    "\n",
    "df_users_taps = df_taps[[\"user_id\"]].copy()\n",
    "df_users_taps = df_users_taps.drop_duplicates()\n",
    "\n",
    "df_users_pays = df_pays[[\"user_id\"]].copy()\n",
    "df_users_pays = df_users_pays.drop_duplicates()"
   ]
  },
  {
   "cell_type": "code",
   "execution_count": 26,
   "id": "6c69b20c-c0a4-4167-abb3-d1af5cb93603",
   "metadata": {},
   "outputs": [],
   "source": [
    "df_users = pd.concat([df_users_prints, df_users_taps, df_users_pays], ignore_index=True)\\\n",
    ".drop_duplicates()"
   ]
  },
  {
   "cell_type": "code",
   "execution_count": 27,
   "id": "7729d8da-c83f-4610-8378-cc89eb61f478",
   "metadata": {},
   "outputs": [
    {
     "name": "stdout",
     "output_type": "stream",
     "text": [
      "Cantidad de usuarios 99943\n"
     ]
    }
   ],
   "source": [
    "print(f\"Cantidad de usuarios {df_users.shape[0]}\")"
   ]
  },
  {
   "cell_type": "code",
   "execution_count": 28,
   "id": "16e659d7-c22c-4703-87df-2ad537a08768",
   "metadata": {},
   "outputs": [],
   "source": [
    "# Extraer productos unicos\n",
    "\n",
    "recomend = df_prints[[\"value_prop\"]].copy()\n",
    "recomend = recomend.drop_duplicates()"
   ]
  },
  {
   "cell_type": "code",
   "execution_count": 29,
   "id": "da552b69-d1db-4d49-9a28-8cfa1c937d5a",
   "metadata": {},
   "outputs": [
    {
     "data": {
      "text/html": [
       "<div>\n",
       "<style scoped>\n",
       "    .dataframe tbody tr th:only-of-type {\n",
       "        vertical-align: middle;\n",
       "    }\n",
       "\n",
       "    .dataframe tbody tr th {\n",
       "        vertical-align: top;\n",
       "    }\n",
       "\n",
       "    .dataframe thead th {\n",
       "        text-align: right;\n",
       "    }\n",
       "</style>\n",
       "<table border=\"1\" class=\"dataframe\">\n",
       "  <thead>\n",
       "    <tr style=\"text-align: right;\">\n",
       "      <th></th>\n",
       "      <th>value_prop</th>\n",
       "    </tr>\n",
       "  </thead>\n",
       "  <tbody>\n",
       "    <tr>\n",
       "      <th>0</th>\n",
       "      <td>cellphone_recharge</td>\n",
       "    </tr>\n",
       "    <tr>\n",
       "      <th>1</th>\n",
       "      <td>prepaid</td>\n",
       "    </tr>\n",
       "    <tr>\n",
       "      <th>4</th>\n",
       "      <td>link_cobro</td>\n",
       "    </tr>\n",
       "    <tr>\n",
       "      <th>5</th>\n",
       "      <td>credits_consumer</td>\n",
       "    </tr>\n",
       "    <tr>\n",
       "      <th>6</th>\n",
       "      <td>point</td>\n",
       "    </tr>\n",
       "    <tr>\n",
       "      <th>9</th>\n",
       "      <td>transport</td>\n",
       "    </tr>\n",
       "    <tr>\n",
       "      <th>15</th>\n",
       "      <td>send_money</td>\n",
       "    </tr>\n",
       "  </tbody>\n",
       "</table>\n",
       "</div>"
      ],
      "text/plain": [
       "            value_prop\n",
       "0   cellphone_recharge\n",
       "1              prepaid\n",
       "4           link_cobro\n",
       "5     credits_consumer\n",
       "6                point\n",
       "9            transport\n",
       "15          send_money"
      ]
     },
     "execution_count": 29,
     "metadata": {},
     "output_type": "execute_result"
    }
   ],
   "source": [
    "recomend"
   ]
  },
  {
   "cell_type": "code",
   "execution_count": 30,
   "id": "b172477f-c3cd-48db-b7d8-f2c26690b5f6",
   "metadata": {},
   "outputs": [],
   "source": [
    "# Unificar dataframe usuario - producto\n",
    "df_mod1 = df_users.merge(recomend, how=\"cross\")"
   ]
  },
  {
   "cell_type": "code",
   "execution_count": 31,
   "id": "052d44d6-9e43-4a31-88bf-2db193f3a0ad",
   "metadata": {},
   "outputs": [
    {
     "data": {
      "text/html": [
       "<div>\n",
       "<style scoped>\n",
       "    .dataframe tbody tr th:only-of-type {\n",
       "        vertical-align: middle;\n",
       "    }\n",
       "\n",
       "    .dataframe tbody tr th {\n",
       "        vertical-align: top;\n",
       "    }\n",
       "\n",
       "    .dataframe thead th {\n",
       "        text-align: right;\n",
       "    }\n",
       "</style>\n",
       "<table border=\"1\" class=\"dataframe\">\n",
       "  <thead>\n",
       "    <tr style=\"text-align: right;\">\n",
       "      <th></th>\n",
       "      <th>user_id</th>\n",
       "      <th>value_prop</th>\n",
       "    </tr>\n",
       "  </thead>\n",
       "  <tbody>\n",
       "    <tr>\n",
       "      <th>0</th>\n",
       "      <td>98702</td>\n",
       "      <td>cellphone_recharge</td>\n",
       "    </tr>\n",
       "    <tr>\n",
       "      <th>1</th>\n",
       "      <td>98702</td>\n",
       "      <td>prepaid</td>\n",
       "    </tr>\n",
       "    <tr>\n",
       "      <th>2</th>\n",
       "      <td>98702</td>\n",
       "      <td>link_cobro</td>\n",
       "    </tr>\n",
       "    <tr>\n",
       "      <th>3</th>\n",
       "      <td>98702</td>\n",
       "      <td>credits_consumer</td>\n",
       "    </tr>\n",
       "    <tr>\n",
       "      <th>4</th>\n",
       "      <td>98702</td>\n",
       "      <td>point</td>\n",
       "    </tr>\n",
       "  </tbody>\n",
       "</table>\n",
       "</div>"
      ],
      "text/plain": [
       "   user_id          value_prop\n",
       "0    98702  cellphone_recharge\n",
       "1    98702             prepaid\n",
       "2    98702          link_cobro\n",
       "3    98702    credits_consumer\n",
       "4    98702               point"
      ]
     },
     "execution_count": 31,
     "metadata": {},
     "output_type": "execute_result"
    }
   ],
   "source": [
    "df_mod1.head(5)"
   ]
  },
  {
   "cell_type": "code",
   "execution_count": 32,
   "id": "dd1622dd-5d05-4f2b-bc4a-ef82dd8b37d9",
   "metadata": {},
   "outputs": [],
   "source": [
    "# Union con informacion de prints, taps y payments\n",
    "\n",
    "df_mod1 = df_mod1.merge(prints_grouped, on=[\"user_id\", \"value_prop\"], how=\"left\")\\\n",
    ".merge(taps_grouped, on=[\"user_id\", \"value_prop\"], how=\"left\")\\\n",
    ".merge(pays_grouped, on=[\"user_id\", \"value_prop\"], how=\"left\")\\\n",
    ".merge(top2_count, on=[\"user_id\", \"value_prop\"], how=\"left\")\\\n",
    ".merge(user_products, on=[\"user_id\"], how=\"left\")"
   ]
  },
  {
   "cell_type": "code",
   "execution_count": 33,
   "id": "35bc3ee1-2d4c-40fd-b13b-fae2fb23b0ae",
   "metadata": {},
   "outputs": [],
   "source": [
    "for col in df_mod1.columns:\n",
    "\n",
    "    if \"count\" in col:\n",
    "        df_mod1[col] = df_mod1[col].fillna(0).astype(int)"
   ]
  },
  {
   "cell_type": "code",
   "execution_count": 36,
   "id": "de85e719-f3d6-4745-9099-7cfb8dabe5e9",
   "metadata": {},
   "outputs": [],
   "source": [
    "df_mod1[\"pays_total\"] = df_mod1[\"pays_total\"].fillna(0)\n",
    "df_mod1[\"label\"] = np.where(df_mod1[\"pays_count\"] > 0, 1, 0)"
   ]
  },
  {
   "cell_type": "code",
   "execution_count": 37,
   "id": "095f74bf-40cc-446f-8a9b-8d0e015fd072",
   "metadata": {},
   "outputs": [
    {
     "data": {
      "text/html": [
       "<div>\n",
       "<style scoped>\n",
       "    .dataframe tbody tr th:only-of-type {\n",
       "        vertical-align: middle;\n",
       "    }\n",
       "\n",
       "    .dataframe tbody tr th {\n",
       "        vertical-align: top;\n",
       "    }\n",
       "\n",
       "    .dataframe thead th {\n",
       "        text-align: right;\n",
       "    }\n",
       "</style>\n",
       "<table border=\"1\" class=\"dataframe\">\n",
       "  <thead>\n",
       "    <tr style=\"text-align: right;\">\n",
       "      <th></th>\n",
       "      <th>user_id</th>\n",
       "      <th>value_prop</th>\n",
       "      <th>prints_count</th>\n",
       "      <th>taps_count</th>\n",
       "      <th>pays_count</th>\n",
       "      <th>pays_total</th>\n",
       "      <th>top2_count</th>\n",
       "      <th>count_productos</th>\n",
       "      <th>label</th>\n",
       "    </tr>\n",
       "  </thead>\n",
       "  <tbody>\n",
       "    <tr>\n",
       "      <th>0</th>\n",
       "      <td>98702</td>\n",
       "      <td>cellphone_recharge</td>\n",
       "      <td>1</td>\n",
       "      <td>1</td>\n",
       "      <td>0</td>\n",
       "      <td>0.00</td>\n",
       "      <td>1</td>\n",
       "      <td>3</td>\n",
       "      <td>0</td>\n",
       "    </tr>\n",
       "    <tr>\n",
       "      <th>1</th>\n",
       "      <td>98702</td>\n",
       "      <td>prepaid</td>\n",
       "      <td>1</td>\n",
       "      <td>0</td>\n",
       "      <td>1</td>\n",
       "      <td>128.68</td>\n",
       "      <td>1</td>\n",
       "      <td>3</td>\n",
       "      <td>1</td>\n",
       "    </tr>\n",
       "    <tr>\n",
       "      <th>2</th>\n",
       "      <td>98702</td>\n",
       "      <td>link_cobro</td>\n",
       "      <td>0</td>\n",
       "      <td>0</td>\n",
       "      <td>1</td>\n",
       "      <td>123.78</td>\n",
       "      <td>0</td>\n",
       "      <td>3</td>\n",
       "      <td>1</td>\n",
       "    </tr>\n",
       "    <tr>\n",
       "      <th>3</th>\n",
       "      <td>98702</td>\n",
       "      <td>credits_consumer</td>\n",
       "      <td>0</td>\n",
       "      <td>0</td>\n",
       "      <td>0</td>\n",
       "      <td>0.00</td>\n",
       "      <td>0</td>\n",
       "      <td>3</td>\n",
       "      <td>0</td>\n",
       "    </tr>\n",
       "    <tr>\n",
       "      <th>4</th>\n",
       "      <td>98702</td>\n",
       "      <td>point</td>\n",
       "      <td>0</td>\n",
       "      <td>0</td>\n",
       "      <td>1</td>\n",
       "      <td>2.49</td>\n",
       "      <td>0</td>\n",
       "      <td>3</td>\n",
       "      <td>1</td>\n",
       "    </tr>\n",
       "  </tbody>\n",
       "</table>\n",
       "</div>"
      ],
      "text/plain": [
       "   user_id          value_prop  prints_count  taps_count  pays_count  \\\n",
       "0    98702  cellphone_recharge             1           1           0   \n",
       "1    98702             prepaid             1           0           1   \n",
       "2    98702          link_cobro             0           0           1   \n",
       "3    98702    credits_consumer             0           0           0   \n",
       "4    98702               point             0           0           1   \n",
       "\n",
       "   pays_total  top2_count  count_productos  label  \n",
       "0        0.00           1                3      0  \n",
       "1      128.68           1                3      1  \n",
       "2      123.78           0                3      1  \n",
       "3        0.00           0                3      0  \n",
       "4        2.49           0                3      1  "
      ]
     },
     "execution_count": 37,
     "metadata": {},
     "output_type": "execute_result"
    }
   ],
   "source": [
    "df_mod1.head(5)"
   ]
  },
  {
   "cell_type": "code",
   "execution_count": null,
   "id": "10ed277b-fa3f-43d3-9c72-471a734e5815",
   "metadata": {},
   "outputs": [],
   "source": []
  }
 ],
 "metadata": {
  "kernelspec": {
   "display_name": "Python 3 (ipykernel)",
   "language": "python",
   "name": "python3"
  },
  "language_info": {
   "codemirror_mode": {
    "name": "ipython",
    "version": 3
   },
   "file_extension": ".py",
   "mimetype": "text/x-python",
   "name": "python",
   "nbconvert_exporter": "python",
   "pygments_lexer": "ipython3",
   "version": "3.11.7"
  }
 },
 "nbformat": 4,
 "nbformat_minor": 5
}
