{
 "cells": [
  {
   "cell_type": "markdown",
   "id": "71798b67-c054-4071-a19d-d2121fb62f41",
   "metadata": {},
   "source": [
    "# Librerias"
   ]
  },
  {
   "cell_type": "code",
   "execution_count": 1,
   "id": "5b1b31f7-b27a-4b8b-95c2-94a41c0eef17",
   "metadata": {},
   "outputs": [],
   "source": [
    "# Manejo de datos\n",
    "import numpy as np\n",
    "import pandas as pd\n",
    "import datetime\n",
    "\n",
    "# Entrenamiento de Modelos de ML\n",
    "from sklearn import metrics\n",
    "from sklearn.metrics import accuracy_score\n",
    "from sklearn.metrics import precision_score\n",
    "from sklearn.metrics import confusion_matrix\n",
    "from sklearn.preprocessing import StandardScaler\n",
    "from sklearn.ensemble import RandomForestClassifier\n",
    "from sklearn.model_selection import GridSearchCV\n",
    "\n",
    "from sklearn.model_selection import train_test_split\n",
    "from mlxtend.frequent_patterns import apriori, association_rules\n",
    "from scipy.sparse.linalg import svds\n",
    "\n",
    "import seaborn as sns\n",
    "import matplotlib.pyplot as plt\n",
    "from matplotlib.lines import Line2D\n",
    "\n",
    "import warnings\n",
    "\n",
    "warnings.filterwarnings(\"ignore\")\n",
    "\n",
    "# Configuración para que al imprimir las tablas se vean completas hasta 90 columnas\n",
    "pd.options.display.max_columns = 90"
   ]
  },
  {
   "cell_type": "markdown",
   "id": "a761e187-a580-434d-ad6c-dfca9699ed2b",
   "metadata": {},
   "source": [
    "# Paths"
   ]
  },
  {
   "cell_type": "code",
   "execution_count": 2,
   "id": "d9445a27-7236-47e9-8dda-9220251bf919",
   "metadata": {},
   "outputs": [],
   "source": [
    "pathClasf = \"../data/processed/clasification_model_df.csv\"\n",
    "pathApriori = \"../data/processed/apriori_model_df.csv\"\n",
    "pathSVD = \"../data/processed/SVD_model_df.csv\""
   ]
  },
  {
   "cell_type": "markdown",
   "id": "b5861422-02a4-40bf-818a-d41f0cadaa1c",
   "metadata": {},
   "source": [
    "# Carga fuentes "
   ]
  },
  {
   "cell_type": "markdown",
   "id": "a4a64593-0dd5-457a-bbd8-42f671ebc05f",
   "metadata": {},
   "source": [
    "## Fuente Clasificacion"
   ]
  },
  {
   "cell_type": "code",
   "execution_count": 3,
   "id": "8c6a6a27-23b7-4870-b69f-b315757d8fa8",
   "metadata": {},
   "outputs": [],
   "source": [
    "df_clas = pd.read_csv(pathClasf)"
   ]
  },
  {
   "cell_type": "code",
   "execution_count": 4,
   "id": "6b51edc7-a7a0-47c7-9431-d688f8872957",
   "metadata": {},
   "outputs": [
    {
     "name": "stdout",
     "output_type": "stream",
     "text": [
      "Dimensiones del dataframe (105819, 10)\n"
     ]
    },
    {
     "data": {
      "text/html": [
       "<div>\n",
       "<style scoped>\n",
       "    .dataframe tbody tr th:only-of-type {\n",
       "        vertical-align: middle;\n",
       "    }\n",
       "\n",
       "    .dataframe tbody tr th {\n",
       "        vertical-align: top;\n",
       "    }\n",
       "\n",
       "    .dataframe thead th {\n",
       "        text-align: right;\n",
       "    }\n",
       "</style>\n",
       "<table border=\"1\" class=\"dataframe\">\n",
       "  <thead>\n",
       "    <tr style=\"text-align: right;\">\n",
       "      <th></th>\n",
       "      <th>day</th>\n",
       "      <th>user_id</th>\n",
       "      <th>position</th>\n",
       "      <th>value_prop</th>\n",
       "      <th>clic</th>\n",
       "      <th>prints_count</th>\n",
       "      <th>taps_count</th>\n",
       "      <th>pays_count</th>\n",
       "      <th>pays_total</th>\n",
       "      <th>label</th>\n",
       "    </tr>\n",
       "  </thead>\n",
       "  <tbody>\n",
       "    <tr>\n",
       "      <th>0</th>\n",
       "      <td>2020-11-30</td>\n",
       "      <td>9462</td>\n",
       "      <td>0</td>\n",
       "      <td>send_money</td>\n",
       "      <td>0</td>\n",
       "      <td>1</td>\n",
       "      <td>0</td>\n",
       "      <td>0</td>\n",
       "      <td>0.00</td>\n",
       "      <td>0</td>\n",
       "    </tr>\n",
       "    <tr>\n",
       "      <th>1</th>\n",
       "      <td>2020-11-30</td>\n",
       "      <td>58033</td>\n",
       "      <td>1</td>\n",
       "      <td>cellphone_recharge</td>\n",
       "      <td>0</td>\n",
       "      <td>1</td>\n",
       "      <td>0</td>\n",
       "      <td>0</td>\n",
       "      <td>0.00</td>\n",
       "      <td>0</td>\n",
       "    </tr>\n",
       "    <tr>\n",
       "      <th>2</th>\n",
       "      <td>2020-11-30</td>\n",
       "      <td>44874</td>\n",
       "      <td>0</td>\n",
       "      <td>link_cobro</td>\n",
       "      <td>0</td>\n",
       "      <td>2</td>\n",
       "      <td>0</td>\n",
       "      <td>0</td>\n",
       "      <td>0.00</td>\n",
       "      <td>0</td>\n",
       "    </tr>\n",
       "    <tr>\n",
       "      <th>3</th>\n",
       "      <td>2020-11-30</td>\n",
       "      <td>28806</td>\n",
       "      <td>0</td>\n",
       "      <td>link_cobro</td>\n",
       "      <td>0</td>\n",
       "      <td>1</td>\n",
       "      <td>0</td>\n",
       "      <td>2</td>\n",
       "      <td>111.52</td>\n",
       "      <td>0</td>\n",
       "    </tr>\n",
       "    <tr>\n",
       "      <th>4</th>\n",
       "      <td>2020-11-30</td>\n",
       "      <td>20913</td>\n",
       "      <td>0</td>\n",
       "      <td>link_cobro</td>\n",
       "      <td>0</td>\n",
       "      <td>1</td>\n",
       "      <td>0</td>\n",
       "      <td>0</td>\n",
       "      <td>0.00</td>\n",
       "      <td>0</td>\n",
       "    </tr>\n",
       "  </tbody>\n",
       "</table>\n",
       "</div>"
      ],
      "text/plain": [
       "          day  user_id  position          value_prop  clic  prints_count  \\\n",
       "0  2020-11-30     9462         0          send_money     0             1   \n",
       "1  2020-11-30    58033         1  cellphone_recharge     0             1   \n",
       "2  2020-11-30    44874         0          link_cobro     0             2   \n",
       "3  2020-11-30    28806         0          link_cobro     0             1   \n",
       "4  2020-11-30    20913         0          link_cobro     0             1   \n",
       "\n",
       "   taps_count  pays_count  pays_total  label  \n",
       "0           0           0        0.00      0  \n",
       "1           0           0        0.00      0  \n",
       "2           0           0        0.00      0  \n",
       "3           0           2      111.52      0  \n",
       "4           0           0        0.00      0  "
      ]
     },
     "execution_count": 4,
     "metadata": {},
     "output_type": "execute_result"
    }
   ],
   "source": [
    "print(f\"Dimensiones del dataframe {df_clas.shape}\")\n",
    "df_clas.head(5)"
   ]
  },
  {
   "cell_type": "markdown",
   "id": "edfefd60-019c-470b-9a05-070b683aca4b",
   "metadata": {},
   "source": [
    "## Fuente Apriori"
   ]
  },
  {
   "cell_type": "code",
   "execution_count": 5,
   "id": "54062b1a-9dd4-4398-9bab-2428f43b8e4b",
   "metadata": {},
   "outputs": [],
   "source": [
    "df_apriori = pd.read_csv(pathApriori)"
   ]
  },
  {
   "cell_type": "code",
   "execution_count": 6,
   "id": "bfa0ccf9-6d72-49c3-b1db-2c3ce07e4a88",
   "metadata": {},
   "outputs": [
    {
     "name": "stdout",
     "output_type": "stream",
     "text": [
      "Dimensiones del dataframe (99943, 8)\n"
     ]
    },
    {
     "data": {
      "text/html": [
       "<div>\n",
       "<style scoped>\n",
       "    .dataframe tbody tr th:only-of-type {\n",
       "        vertical-align: middle;\n",
       "    }\n",
       "\n",
       "    .dataframe tbody tr th {\n",
       "        vertical-align: top;\n",
       "    }\n",
       "\n",
       "    .dataframe thead th {\n",
       "        text-align: right;\n",
       "    }\n",
       "</style>\n",
       "<table border=\"1\" class=\"dataframe\">\n",
       "  <thead>\n",
       "    <tr style=\"text-align: right;\">\n",
       "      <th></th>\n",
       "      <th>user_id</th>\n",
       "      <th>cellphone_recharge</th>\n",
       "      <th>credits_consumer</th>\n",
       "      <th>link_cobro</th>\n",
       "      <th>point</th>\n",
       "      <th>prepaid</th>\n",
       "      <th>send_money</th>\n",
       "      <th>transport</th>\n",
       "    </tr>\n",
       "  </thead>\n",
       "  <tbody>\n",
       "    <tr>\n",
       "      <th>0</th>\n",
       "      <td>98702</td>\n",
       "      <td>0</td>\n",
       "      <td>0</td>\n",
       "      <td>1</td>\n",
       "      <td>1</td>\n",
       "      <td>1</td>\n",
       "      <td>0</td>\n",
       "      <td>0</td>\n",
       "    </tr>\n",
       "    <tr>\n",
       "      <th>1</th>\n",
       "      <td>63252</td>\n",
       "      <td>1</td>\n",
       "      <td>0</td>\n",
       "      <td>0</td>\n",
       "      <td>0</td>\n",
       "      <td>0</td>\n",
       "      <td>1</td>\n",
       "      <td>0</td>\n",
       "    </tr>\n",
       "    <tr>\n",
       "      <th>2</th>\n",
       "      <td>24728</td>\n",
       "      <td>0</td>\n",
       "      <td>0</td>\n",
       "      <td>1</td>\n",
       "      <td>0</td>\n",
       "      <td>0</td>\n",
       "      <td>1</td>\n",
       "      <td>1</td>\n",
       "    </tr>\n",
       "    <tr>\n",
       "      <th>3</th>\n",
       "      <td>25517</td>\n",
       "      <td>1</td>\n",
       "      <td>1</td>\n",
       "      <td>0</td>\n",
       "      <td>1</td>\n",
       "      <td>0</td>\n",
       "      <td>1</td>\n",
       "      <td>0</td>\n",
       "    </tr>\n",
       "    <tr>\n",
       "      <th>4</th>\n",
       "      <td>57587</td>\n",
       "      <td>1</td>\n",
       "      <td>0</td>\n",
       "      <td>1</td>\n",
       "      <td>0</td>\n",
       "      <td>0</td>\n",
       "      <td>1</td>\n",
       "      <td>1</td>\n",
       "    </tr>\n",
       "  </tbody>\n",
       "</table>\n",
       "</div>"
      ],
      "text/plain": [
       "   user_id  cellphone_recharge  credits_consumer  link_cobro  point  prepaid  \\\n",
       "0    98702                   0                 0           1      1        1   \n",
       "1    63252                   1                 0           0      0        0   \n",
       "2    24728                   0                 0           1      0        0   \n",
       "3    25517                   1                 1           0      1        0   \n",
       "4    57587                   1                 0           1      0        0   \n",
       "\n",
       "   send_money  transport  \n",
       "0           0          0  \n",
       "1           1          0  \n",
       "2           1          1  \n",
       "3           1          0  \n",
       "4           1          1  "
      ]
     },
     "execution_count": 6,
     "metadata": {},
     "output_type": "execute_result"
    }
   ],
   "source": [
    "print(f\"Dimensiones del dataframe {df_apriori.shape}\")\n",
    "df_apriori.head(5)"
   ]
  },
  {
   "cell_type": "markdown",
   "id": "f3183794-2769-4f5a-ac0f-8cee16e8adec",
   "metadata": {},
   "source": [
    "## Fuente SVD"
   ]
  },
  {
   "cell_type": "code",
   "execution_count": 7,
   "id": "428b6428-dc59-4b43-9789-1dfd6e4cdd50",
   "metadata": {},
   "outputs": [],
   "source": [
    "df_SVD = pd.read_csv(pathSVD)"
   ]
  },
  {
   "cell_type": "code",
   "execution_count": 8,
   "id": "cfe74dd3-106d-4fab-bfb4-cc18aa6a950f",
   "metadata": {},
   "outputs": [
    {
     "name": "stdout",
     "output_type": "stream",
     "text": [
      "Dimensiones del dataframe (37410, 8)\n"
     ]
    },
    {
     "data": {
      "text/html": [
       "<div>\n",
       "<style scoped>\n",
       "    .dataframe tbody tr th:only-of-type {\n",
       "        vertical-align: middle;\n",
       "    }\n",
       "\n",
       "    .dataframe tbody tr th {\n",
       "        vertical-align: top;\n",
       "    }\n",
       "\n",
       "    .dataframe thead th {\n",
       "        text-align: right;\n",
       "    }\n",
       "</style>\n",
       "<table border=\"1\" class=\"dataframe\">\n",
       "  <thead>\n",
       "    <tr style=\"text-align: right;\">\n",
       "      <th></th>\n",
       "      <th>user_id</th>\n",
       "      <th>cellphone_recharge</th>\n",
       "      <th>credits_consumer</th>\n",
       "      <th>link_cobro</th>\n",
       "      <th>point</th>\n",
       "      <th>prepaid</th>\n",
       "      <th>send_money</th>\n",
       "      <th>transport</th>\n",
       "    </tr>\n",
       "  </thead>\n",
       "  <tbody>\n",
       "    <tr>\n",
       "      <th>0</th>\n",
       "      <td>1</td>\n",
       "      <td>0.0</td>\n",
       "      <td>0.0</td>\n",
       "      <td>0.450000</td>\n",
       "      <td>0.100000</td>\n",
       "      <td>0.000000</td>\n",
       "      <td>0.000000</td>\n",
       "      <td>2.761947</td>\n",
       "    </tr>\n",
       "    <tr>\n",
       "      <th>1</th>\n",
       "      <td>2</td>\n",
       "      <td>0.1</td>\n",
       "      <td>0.0</td>\n",
       "      <td>0.000000</td>\n",
       "      <td>3.081106</td>\n",
       "      <td>0.000000</td>\n",
       "      <td>2.475893</td>\n",
       "      <td>0.000000</td>\n",
       "    </tr>\n",
       "    <tr>\n",
       "      <th>2</th>\n",
       "      <td>3</td>\n",
       "      <td>0.0</td>\n",
       "      <td>0.0</td>\n",
       "      <td>2.781171</td>\n",
       "      <td>0.000000</td>\n",
       "      <td>3.316367</td>\n",
       "      <td>0.000000</td>\n",
       "      <td>0.000000</td>\n",
       "    </tr>\n",
       "    <tr>\n",
       "      <th>3</th>\n",
       "      <td>4</td>\n",
       "      <td>0.0</td>\n",
       "      <td>0.0</td>\n",
       "      <td>0.350000</td>\n",
       "      <td>0.000000</td>\n",
       "      <td>0.100000</td>\n",
       "      <td>0.000000</td>\n",
       "      <td>0.000000</td>\n",
       "    </tr>\n",
       "    <tr>\n",
       "      <th>4</th>\n",
       "      <td>6</td>\n",
       "      <td>0.1</td>\n",
       "      <td>0.0</td>\n",
       "      <td>0.000000</td>\n",
       "      <td>0.000000</td>\n",
       "      <td>1.046654</td>\n",
       "      <td>2.413785</td>\n",
       "      <td>0.000000</td>\n",
       "    </tr>\n",
       "  </tbody>\n",
       "</table>\n",
       "</div>"
      ],
      "text/plain": [
       "   user_id  cellphone_recharge  credits_consumer  link_cobro     point  \\\n",
       "0        1                 0.0               0.0    0.450000  0.100000   \n",
       "1        2                 0.1               0.0    0.000000  3.081106   \n",
       "2        3                 0.0               0.0    2.781171  0.000000   \n",
       "3        4                 0.0               0.0    0.350000  0.000000   \n",
       "4        6                 0.1               0.0    0.000000  0.000000   \n",
       "\n",
       "    prepaid  send_money  transport  \n",
       "0  0.000000    0.000000   2.761947  \n",
       "1  0.000000    2.475893   0.000000  \n",
       "2  3.316367    0.000000   0.000000  \n",
       "3  0.100000    0.000000   0.000000  \n",
       "4  1.046654    2.413785   0.000000  "
      ]
     },
     "execution_count": 8,
     "metadata": {},
     "output_type": "execute_result"
    }
   ],
   "source": [
    "print(f\"Dimensiones del dataframe {df_SVD.shape}\")\n",
    "df_SVD.head(5)"
   ]
  },
  {
   "cell_type": "markdown",
   "id": "07e3f9b0-6bd2-4bc0-b2c8-e2e5080cfa93",
   "metadata": {},
   "source": [
    "# Construccion de modelos"
   ]
  },
  {
   "cell_type": "markdown",
   "id": "40e840b3-769d-42d6-84dc-f053399865c0",
   "metadata": {},
   "source": [
    "## Modelo Clasificacion"
   ]
  },
  {
   "cell_type": "markdown",
   "id": "ecddadb3-78f0-4ac3-a0cb-b4024fd19a93",
   "metadata": {},
   "source": [
    "### Entrenamiento del modelo"
   ]
  },
  {
   "cell_type": "code",
   "execution_count": 9,
   "id": "13c79832-3737-466f-9d76-ac44e8e37055",
   "metadata": {},
   "outputs": [
    {
     "data": {
      "text/plain": [
       "(105819, 5)"
      ]
     },
     "execution_count": 9,
     "metadata": {},
     "output_type": "execute_result"
    }
   ],
   "source": [
    "# Preparacion de los datos\n",
    "\n",
    "XTotal = df_clas.drop([\"day\", \"user_id\", \"position\", \"value_prop\", \"label\"], axis=1)\n",
    "\n",
    "#lista_col = XTotal.columns.tolist()\n",
    "scaler = StandardScaler()\n",
    "XTotal[\"pays_total\"] = scaler.fit_transform(XTotal[[\"pays_total\"]])\n",
    "yTotal = df_clas[\"label\"]\n",
    "\n",
    "XTotal.shape"
   ]
  },
  {
   "cell_type": "code",
   "execution_count": 10,
   "id": "3972768a-fb9c-4517-8566-ca9e490ea965",
   "metadata": {},
   "outputs": [
    {
     "data": {
      "text/html": [
       "<div>\n",
       "<style scoped>\n",
       "    .dataframe tbody tr th:only-of-type {\n",
       "        vertical-align: middle;\n",
       "    }\n",
       "\n",
       "    .dataframe tbody tr th {\n",
       "        vertical-align: top;\n",
       "    }\n",
       "\n",
       "    .dataframe thead th {\n",
       "        text-align: right;\n",
       "    }\n",
       "</style>\n",
       "<table border=\"1\" class=\"dataframe\">\n",
       "  <thead>\n",
       "    <tr style=\"text-align: right;\">\n",
       "      <th></th>\n",
       "      <th>clic</th>\n",
       "      <th>prints_count</th>\n",
       "      <th>taps_count</th>\n",
       "      <th>pays_count</th>\n",
       "      <th>pays_total</th>\n",
       "    </tr>\n",
       "  </thead>\n",
       "  <tbody>\n",
       "    <tr>\n",
       "      <th>0</th>\n",
       "      <td>0</td>\n",
       "      <td>1</td>\n",
       "      <td>0</td>\n",
       "      <td>0</td>\n",
       "      <td>-0.668302</td>\n",
       "    </tr>\n",
       "    <tr>\n",
       "      <th>1</th>\n",
       "      <td>0</td>\n",
       "      <td>1</td>\n",
       "      <td>0</td>\n",
       "      <td>0</td>\n",
       "      <td>-0.668302</td>\n",
       "    </tr>\n",
       "    <tr>\n",
       "      <th>2</th>\n",
       "      <td>0</td>\n",
       "      <td>2</td>\n",
       "      <td>0</td>\n",
       "      <td>0</td>\n",
       "      <td>-0.668302</td>\n",
       "    </tr>\n",
       "    <tr>\n",
       "      <th>3</th>\n",
       "      <td>0</td>\n",
       "      <td>1</td>\n",
       "      <td>0</td>\n",
       "      <td>2</td>\n",
       "      <td>1.249347</td>\n",
       "    </tr>\n",
       "    <tr>\n",
       "      <th>4</th>\n",
       "      <td>0</td>\n",
       "      <td>1</td>\n",
       "      <td>0</td>\n",
       "      <td>0</td>\n",
       "      <td>-0.668302</td>\n",
       "    </tr>\n",
       "  </tbody>\n",
       "</table>\n",
       "</div>"
      ],
      "text/plain": [
       "   clic  prints_count  taps_count  pays_count  pays_total\n",
       "0     0             1           0           0   -0.668302\n",
       "1     0             1           0           0   -0.668302\n",
       "2     0             2           0           0   -0.668302\n",
       "3     0             1           0           2    1.249347\n",
       "4     0             1           0           0   -0.668302"
      ]
     },
     "execution_count": 10,
     "metadata": {},
     "output_type": "execute_result"
    }
   ],
   "source": [
    "XTotal.head(5)"
   ]
  },
  {
   "cell_type": "code",
   "execution_count": 11,
   "id": "fb33ddfc-66ed-4c66-add2-329376968662",
   "metadata": {},
   "outputs": [],
   "source": [
    "XTrain, XTest, yTrain, yTest = train_test_split(XTotal, yTotal, test_size=0.3, random_state=42)"
   ]
  },
  {
   "cell_type": "code",
   "execution_count": 12,
   "id": "9d97f6e5-cea1-42d3-925a-723348330b03",
   "metadata": {},
   "outputs": [
    {
     "data": {
      "image/png": "[encoded data removed]",
      "text/plain": [
       "<Figure size 640x480 with 1 Axes>"
      ]
     },
     "metadata": {},
     "output_type": "display_data"
    }
   ],
   "source": [
    "RF_model = RandomForestClassifier(random_state=0, class_weight=\"balanced\")\n",
    "RF_model.fit(XTrain, yTrain)\n",
    "\n",
    "predicciones_RF_model = RF_model.predict(XTest)\n",
    "prediccionesProb_RF_model = RF_model.predict_proba(XTest)\n",
    "\n",
    "prediccionRF_model=prediccionesProb_RF_model[:,0]\n",
    "fpr, tpr, thresholds = metrics.roc_curve(yTest, prediccionRF_model, pos_label=0)\n",
    "AUCRF_model=metrics.auc(fpr, tpr)\n",
    "plt.title('Receiver Operating Characteristic')\n",
    "plt.plot(fpr, tpr, 'b', label = 'AUC = %0.2f' % AUCRF_model)\n",
    "plt.legend(loc = 'lower right')\n",
    "plt.plot([0, 1], [0, 1],'r--')\n",
    "plt.xlim([-0.01, 1])\n",
    "plt.ylim([0, 1.05])\n",
    "plt.ylabel('True Positive Rate')\n",
    "plt.xlabel('False Positive Rate')\n",
    "plt.show()"
   ]
  },
  {
   "cell_type": "code",
   "execution_count": 13,
   "id": "6ff78490-2fe4-4329-a852-05f32d8187f3",
   "metadata": {},
   "outputs": [
    {
     "name": "stdout",
     "output_type": "stream",
     "text": [
      "[[28540     0]\n",
      " [    0  3206]]\n"
     ]
    }
   ],
   "source": [
    "# Matriz de confusión\n",
    "\n",
    "cm_RF_model = confusion_matrix(yTest, predicciones_RF_model)\n",
    "\n",
    "tp, fn, fp, tn = cm_RF_model.ravel()\n",
    "\n",
    "print(confusion_matrix(y_true=yTest, y_pred=predicciones_RF_model))"
   ]
  },
  {
   "cell_type": "code",
   "execution_count": 14,
   "id": "bbeea168-0a2c-40d2-8447-d201686a7dbc",
   "metadata": {},
   "outputs": [
    {
     "data": {
      "text/plain": [
       "1.0"
      ]
     },
     "execution_count": 14,
     "metadata": {},
     "output_type": "execute_result"
    }
   ],
   "source": [
    "#Sensibilidad\n",
    "\n",
    "sensibilidad_RF_model = tp / (tp + fn)\n",
    "sensibilidad_RF_model"
   ]
  },
  {
   "cell_type": "code",
   "execution_count": 15,
   "id": "b13f678c-fb67-4e03-b223-9e40f4235479",
   "metadata": {},
   "outputs": [
    {
     "name": "stdout",
     "output_type": "stream",
     "text": [
      "1.0\n"
     ]
    }
   ],
   "source": [
    "# Accuracy\n",
    "\n",
    "accuracyRF_modelt=accuracy_score(y_true=yTest, y_pred=predicciones_RF_model)\n",
    "print(accuracyRF_modelt)"
   ]
  },
  {
   "cell_type": "markdown",
   "id": "149616f0-662a-439e-aaf8-841749c47770",
   "metadata": {},
   "source": [
    "### Exportar predicciones"
   ]
  },
  {
   "cell_type": "markdown",
   "id": "e9c513de-8d4b-47b4-badc-81462e38fd15",
   "metadata": {},
   "source": [
    "Tomaremos XTest como si fuera un dataset a predecir para probar como se exportarian las predicciones del modelo"
   ]
  },
  {
   "cell_type": "code",
   "execution_count": 16,
   "id": "be4c505a-32b2-4290-a66b-12218b2e9a37",
   "metadata": {},
   "outputs": [],
   "source": [
    "df_pred_clas = pd.DataFrame(prediccionesProb_RF_model[:, 1],  # probabilidad clase positiva\n",
    "                               columns=[\"prob_clase_1\"],\n",
    "                               index=XTest.index)\n",
    "\n",
    "# 2. Recuperar user_id y value_prop desde df_clas usando los índices de XTest\n",
    "df_user_id = df_clas.loc[XTest.index, [\"user_id\", \"value_prop\"]]\n",
    "\n",
    "# 3. Combinar\n",
    "df_result_clas = pd.concat([df_user_id.reset_index(drop=True),\n",
    "                          df_pred_clas.reset_index(drop=True)], axis=1)\n",
    "\n",
    "# 4. Ordenar por usuario y probabilidad descendente\n",
    "df_result_clas = df_result_clas.sort_values(by=[\"user_id\", \"prob_clase_1\"], ascending=[True, False])"
   ]
  },
  {
   "cell_type": "code",
   "execution_count": 17,
   "id": "a835341f-dab3-44bb-8249-2c8b16d91286",
   "metadata": {},
   "outputs": [
    {
     "data": {
      "text/html": [
       "<div>\n",
       "<style scoped>\n",
       "    .dataframe tbody tr th:only-of-type {\n",
       "        vertical-align: middle;\n",
       "    }\n",
       "\n",
       "    .dataframe tbody tr th {\n",
       "        vertical-align: top;\n",
       "    }\n",
       "\n",
       "    .dataframe thead th {\n",
       "        text-align: right;\n",
       "    }\n",
       "</style>\n",
       "<table border=\"1\" class=\"dataframe\">\n",
       "  <thead>\n",
       "    <tr style=\"text-align: right;\">\n",
       "      <th></th>\n",
       "      <th>user_id</th>\n",
       "      <th>value_prop</th>\n",
       "      <th>prob_clase_1</th>\n",
       "    </tr>\n",
       "  </thead>\n",
       "  <tbody>\n",
       "    <tr>\n",
       "      <th>10155</th>\n",
       "      <td>1</td>\n",
       "      <td>transport</td>\n",
       "      <td>0.0</td>\n",
       "    </tr>\n",
       "    <tr>\n",
       "      <th>11680</th>\n",
       "      <td>1</td>\n",
       "      <td>link_cobro</td>\n",
       "      <td>0.0</td>\n",
       "    </tr>\n",
       "    <tr>\n",
       "      <th>15918</th>\n",
       "      <td>1</td>\n",
       "      <td>point</td>\n",
       "      <td>0.0</td>\n",
       "    </tr>\n",
       "    <tr>\n",
       "      <th>8927</th>\n",
       "      <td>3</td>\n",
       "      <td>send_money</td>\n",
       "      <td>0.0</td>\n",
       "    </tr>\n",
       "    <tr>\n",
       "      <th>3371</th>\n",
       "      <td>6</td>\n",
       "      <td>cellphone_recharge</td>\n",
       "      <td>0.0</td>\n",
       "    </tr>\n",
       "    <tr>\n",
       "      <th>...</th>\n",
       "      <td>...</td>\n",
       "      <td>...</td>\n",
       "      <td>...</td>\n",
       "    </tr>\n",
       "    <tr>\n",
       "      <th>4918</th>\n",
       "      <td>99993</td>\n",
       "      <td>point</td>\n",
       "      <td>1.0</td>\n",
       "    </tr>\n",
       "    <tr>\n",
       "      <th>2300</th>\n",
       "      <td>99993</td>\n",
       "      <td>cellphone_recharge</td>\n",
       "      <td>0.0</td>\n",
       "    </tr>\n",
       "    <tr>\n",
       "      <th>8069</th>\n",
       "      <td>99994</td>\n",
       "      <td>transport</td>\n",
       "      <td>0.0</td>\n",
       "    </tr>\n",
       "    <tr>\n",
       "      <th>31256</th>\n",
       "      <td>99996</td>\n",
       "      <td>credits_consumer</td>\n",
       "      <td>0.0</td>\n",
       "    </tr>\n",
       "    <tr>\n",
       "      <th>27042</th>\n",
       "      <td>99997</td>\n",
       "      <td>credits_consumer</td>\n",
       "      <td>0.0</td>\n",
       "    </tr>\n",
       "  </tbody>\n",
       "</table>\n",
       "<p>31746 rows × 3 columns</p>\n",
       "</div>"
      ],
      "text/plain": [
       "       user_id          value_prop  prob_clase_1\n",
       "10155        1           transport           0.0\n",
       "11680        1          link_cobro           0.0\n",
       "15918        1               point           0.0\n",
       "8927         3          send_money           0.0\n",
       "3371         6  cellphone_recharge           0.0\n",
       "...        ...                 ...           ...\n",
       "4918     99993               point           1.0\n",
       "2300     99993  cellphone_recharge           0.0\n",
       "8069     99994           transport           0.0\n",
       "31256    99996    credits_consumer           0.0\n",
       "27042    99997    credits_consumer           0.0\n",
       "\n",
       "[31746 rows x 3 columns]"
      ]
     },
     "execution_count": 17,
     "metadata": {},
     "output_type": "execute_result"
    }
   ],
   "source": [
    "df_result_clas"
   ]
  },
  {
   "cell_type": "code",
   "execution_count": 18,
   "id": "051565f3-d6f7-4ebf-85ae-ec68d7bb376b",
   "metadata": {},
   "outputs": [],
   "source": [
    "df_result_clas.to_csv(\"../data/output_models/recommendations_RFClas.csv\", index=False)"
   ]
  },
  {
   "cell_type": "markdown",
   "id": "57a70eb1-8935-4b5f-9e42-f2c6a2037fa0",
   "metadata": {},
   "source": [
    "## Modelo de recomendacion Apriori"
   ]
  },
  {
   "cell_type": "markdown",
   "id": "c64f8194-8511-4b51-b015-cef04b538ac1",
   "metadata": {},
   "source": [
    "### Generar recomendaciones"
   ]
  },
  {
   "cell_type": "code",
   "execution_count": 19,
   "id": "582e2c17-8e14-4880-a9ea-fc03a74c0a4b",
   "metadata": {},
   "outputs": [],
   "source": [
    "frequent_itemsets = apriori(\n",
    "    df_apriori.drop([\"user_id\"], axis=1), \n",
    "    min_support=0.05,\n",
    "    use_colnames=True\n",
    ")"
   ]
  },
  {
   "cell_type": "code",
   "execution_count": 20,
   "id": "8adfc905-a0ba-4097-9ae4-79f825f3f96d",
   "metadata": {},
   "outputs": [],
   "source": [
    "rules = association_rules(\n",
    "    frequent_itemsets, \n",
    "    metric=\"lift\", \n",
    "    min_threshold=1\n",
    ").sort_values(by=\"confidence\", ascending=False)"
   ]
  },
  {
   "cell_type": "code",
   "execution_count": 21,
   "id": "e91368a5-9a18-481f-be00-b4c2e9165b41",
   "metadata": {},
   "outputs": [],
   "source": [
    "rules[\"antecedents\"] = rules[\"antecedents\"].apply(lambda x: set(x))\n",
    "rules[\"consequents\"] = rules[\"consequents\"].apply(lambda x: set(x))"
   ]
  },
  {
   "cell_type": "code",
   "execution_count": 22,
   "id": "08f9ec8c-3373-4a9f-b13a-cafe4e6f8bc9",
   "metadata": {},
   "outputs": [],
   "source": [
    "rules_dict = {}\n",
    "for _, row in rules.iterrows():\n",
    "    ant = frozenset(row[\"antecedents\"])\n",
    "    cons = row[\"consequents\"]\n",
    "    if ant not in rules_dict:\n",
    "        rules_dict[ant] = []\n",
    "    rules_dict[ant].append({\n",
    "        \"consequents\": cons,\n",
    "        \"confidence\": row[\"confidence\"],\n",
    "        \"lift\": row[\"lift\"],\n",
    "        \"support\": row[\"support\"]\n",
    "    })"
   ]
  },
  {
   "cell_type": "code",
   "execution_count": 23,
   "id": "d7b7cade-0d6f-44cd-8b0c-cdfcd6cc7e99",
   "metadata": {},
   "outputs": [],
   "source": [
    "for ant in rules_dict:\n",
    "    rules_dict[ant] = sorted(rules_dict[ant], key=lambda x: x[\"confidence\"], reverse=True)"
   ]
  },
  {
   "cell_type": "code",
   "execution_count": 24,
   "id": "0e3d30cb-9946-41a5-8a57-57246e76ac3d",
   "metadata": {},
   "outputs": [],
   "source": [
    "def recomendar_usuario(row, top_n=4):\n",
    "    \"\"\"Dado un usuario, retorna lista con recomendaciones y métricas\"\"\"\n",
    "    user_items = set(row.index[row == 1]) \n",
    "    resultados = []\n",
    "\n",
    "    for ant, cons_list in rules_dict.items():\n",
    "        if ant.issubset(user_items): \n",
    "            for cons_info in cons_list:\n",
    "                nuevas = cons_info[\"consequents\"] - user_items\n",
    "                if nuevas:\n",
    "                    resultados.append({\n",
    "                        \"antecedents\": list(ant),\n",
    "                        \"consequents\": list(nuevas),\n",
    "                        \"confidence\": cons_info[\"confidence\"],\n",
    "                        \"lift\": cons_info[\"lift\"],\n",
    "                        \"support\": cons_info[\"support\"]\n",
    "                    })\n",
    "\n",
    "    resultados = sorted(resultados, key=lambda x: x[\"confidence\"], reverse=True)[:top_n]\n",
    "    return resultados"
   ]
  },
  {
   "cell_type": "code",
   "execution_count": 25,
   "id": "7b8e591d-b0f4-4ec4-87d1-b99341be2317",
   "metadata": {},
   "outputs": [],
   "source": [
    "df_apriori[\"recomendaciones\"] = df_apriori.drop(\"user_id\", axis=1).apply(recomendar_usuario, axis=1)"
   ]
  },
  {
   "cell_type": "code",
   "execution_count": 26,
   "id": "03a01bc5-370c-485a-8e97-44058cec938a",
   "metadata": {},
   "outputs": [],
   "source": [
    "df_rec_apriori = (\n",
    "    df_apriori[[\"user_id\", \"recomendaciones\"]]\n",
    "    .explode(\"recomendaciones\")\n",
    "    .dropna()\n",
    ")"
   ]
  },
  {
   "cell_type": "code",
   "execution_count": 27,
   "id": "6b2c84f0-9fae-433e-a307-3a879e1e7346",
   "metadata": {},
   "outputs": [],
   "source": [
    "df_rec_apriori = pd.concat(\n",
    "    [\n",
    "        df_rec_apriori.drop([\"recomendaciones\"], axis=1),\n",
    "        df_rec_apriori[\"recomendaciones\"].apply(pd.Series)\n",
    "    ],\n",
    "    axis=1\n",
    ")"
   ]
  },
  {
   "cell_type": "code",
   "execution_count": 28,
   "id": "0577e63d-8bd0-4300-9e4b-2b7913edd070",
   "metadata": {},
   "outputs": [
    {
     "data": {
      "text/html": [
       "<div>\n",
       "<style scoped>\n",
       "    .dataframe tbody tr th:only-of-type {\n",
       "        vertical-align: middle;\n",
       "    }\n",
       "\n",
       "    .dataframe tbody tr th {\n",
       "        vertical-align: top;\n",
       "    }\n",
       "\n",
       "    .dataframe thead th {\n",
       "        text-align: right;\n",
       "    }\n",
       "</style>\n",
       "<table border=\"1\" class=\"dataframe\">\n",
       "  <thead>\n",
       "    <tr style=\"text-align: right;\">\n",
       "      <th></th>\n",
       "      <th>user_id</th>\n",
       "      <th>antecedents</th>\n",
       "      <th>consequents</th>\n",
       "      <th>confidence</th>\n",
       "      <th>lift</th>\n",
       "      <th>support</th>\n",
       "    </tr>\n",
       "  </thead>\n",
       "  <tbody>\n",
       "    <tr>\n",
       "      <th>0</th>\n",
       "      <td>98702</td>\n",
       "      <td>[prepaid, link_cobro, point]</td>\n",
       "      <td>[credits_consumer]</td>\n",
       "      <td>0.708745</td>\n",
       "      <td>1.062362</td>\n",
       "      <td>0.222687</td>\n",
       "    </tr>\n",
       "    <tr>\n",
       "      <th>0</th>\n",
       "      <td>98702</td>\n",
       "      <td>[prepaid, link_cobro, point]</td>\n",
       "      <td>[cellphone_recharge]</td>\n",
       "      <td>0.702726</td>\n",
       "      <td>1.056398</td>\n",
       "      <td>0.220796</td>\n",
       "    </tr>\n",
       "    <tr>\n",
       "      <th>0</th>\n",
       "      <td>98702</td>\n",
       "      <td>[prepaid, link_cobro, point]</td>\n",
       "      <td>[transport]</td>\n",
       "      <td>0.701962</td>\n",
       "      <td>1.050588</td>\n",
       "      <td>0.220556</td>\n",
       "    </tr>\n",
       "    <tr>\n",
       "      <th>0</th>\n",
       "      <td>98702</td>\n",
       "      <td>[prepaid, link_cobro, point]</td>\n",
       "      <td>[send_money]</td>\n",
       "      <td>0.699955</td>\n",
       "      <td>1.047538</td>\n",
       "      <td>0.219925</td>\n",
       "    </tr>\n",
       "    <tr>\n",
       "      <th>1</th>\n",
       "      <td>63252</td>\n",
       "      <td>[cellphone_recharge, send_money]</td>\n",
       "      <td>[transport]</td>\n",
       "      <td>0.696559</td>\n",
       "      <td>1.042503</td>\n",
       "      <td>0.316620</td>\n",
       "    </tr>\n",
       "  </tbody>\n",
       "</table>\n",
       "</div>"
      ],
      "text/plain": [
       "   user_id                       antecedents           consequents  \\\n",
       "0    98702      [prepaid, link_cobro, point]    [credits_consumer]   \n",
       "0    98702      [prepaid, link_cobro, point]  [cellphone_recharge]   \n",
       "0    98702      [prepaid, link_cobro, point]           [transport]   \n",
       "0    98702      [prepaid, link_cobro, point]          [send_money]   \n",
       "1    63252  [cellphone_recharge, send_money]           [transport]   \n",
       "\n",
       "   confidence      lift   support  \n",
       "0    0.708745  1.062362  0.222687  \n",
       "0    0.702726  1.056398  0.220796  \n",
       "0    0.701962  1.050588  0.220556  \n",
       "0    0.699955  1.047538  0.219925  \n",
       "1    0.696559  1.042503  0.316620  "
      ]
     },
     "execution_count": 28,
     "metadata": {},
     "output_type": "execute_result"
    }
   ],
   "source": [
    "df_rec_apriori.head(5)"
   ]
  },
  {
   "cell_type": "markdown",
   "id": "ec4ad25c-2406-4fdd-9573-b0bae602878a",
   "metadata": {},
   "source": [
    "### Exportar predicciones"
   ]
  },
  {
   "cell_type": "code",
   "execution_count": 29,
   "id": "0b9adea2-78b4-4de9-89cb-9898fe8178a1",
   "metadata": {},
   "outputs": [],
   "source": [
    "df_rec_apriori.to_csv(\"../data/output_models/recommendations_apriori.csv\", index=False)"
   ]
  },
  {
   "cell_type": "markdown",
   "id": "ec9e1e8c-07ce-4580-8ac6-3153cc87487d",
   "metadata": {},
   "source": [
    "## Modelo de recomendacion Colaborativo (SVD)"
   ]
  },
  {
   "cell_type": "markdown",
   "id": "69fe116e-73b9-406e-a50a-cea39cc2757d",
   "metadata": {},
   "source": [
    "### Generar recomendaciones"
   ]
  },
  {
   "cell_type": "code",
   "execution_count": 30,
   "id": "a4d891fb-8e63-43e1-abef-3f10744887a0",
   "metadata": {},
   "outputs": [],
   "source": [
    "ratings = df_SVD.drop(columns=[\"user_id\"]).to_numpy()\n",
    "user_ids = df_SVD[\"user_id\"].values"
   ]
  },
  {
   "cell_type": "code",
   "execution_count": 31,
   "id": "97c9e793-82eb-4cb4-9efd-e935f77414f1",
   "metadata": {},
   "outputs": [],
   "source": [
    "user_ratings_mean = np.mean(ratings, axis=1)\n",
    "R_demeaned = ratings - user_ratings_mean.reshape(-1, 1)"
   ]
  },
  {
   "cell_type": "code",
   "execution_count": 32,
   "id": "6c96f7fd-5e2f-4ec4-9686-66db55bdccac",
   "metadata": {},
   "outputs": [],
   "source": [
    "k = min(ratings.shape) - 1   \n",
    "U, sigma, Vt = svds(R_demeaned, k=k)\n",
    "sigma = np.diag(sigma)"
   ]
  },
  {
   "cell_type": "code",
   "execution_count": 33,
   "id": "3320a300-6f0b-4a71-a2de-ac7264282fef",
   "metadata": {},
   "outputs": [],
   "source": [
    "R_pred = np.dot(np.dot(U, sigma), Vt) + user_ratings_mean.reshape(-1, 1)"
   ]
  },
  {
   "cell_type": "code",
   "execution_count": 34,
   "id": "d5d26f46-27e2-4099-a64d-f1837410be1a",
   "metadata": {},
   "outputs": [],
   "source": [
    "cols = df_SVD.drop(columns=[\"user_id\"]).columns\n",
    "pred_df = pd.DataFrame(R_pred, columns=cols, index=user_ids)"
   ]
  },
  {
   "cell_type": "code",
   "execution_count": 35,
   "id": "36002057-bc6b-4761-bf61-07f7bb673f40",
   "metadata": {},
   "outputs": [],
   "source": [
    "def get_recommendations(pred_df, user_id, num_recommendations=5):\n",
    "    user_preds = pred_df.loc[user_id].sort_values(ascending=False)\n",
    "    top_items = user_preds.head(num_recommendations).index.tolist()\n",
    "    top_scores = user_preds.head(num_recommendations).values.tolist()\n",
    "    return top_items, top_scores"
   ]
  },
  {
   "cell_type": "code",
   "execution_count": 36,
   "id": "7468ddaf-1ab6-4219-8ba2-33025cb7ad27",
   "metadata": {},
   "outputs": [],
   "source": [
    "num_recommendations = 5\n",
    "recs = []\n",
    "\n",
    "for uid in user_ids:\n",
    "    items, scores = get_recommendations(pred_df, uid, num_recommendations)\n",
    "    row = {\"user_id\": uid}\n",
    "    for i in range(num_recommendations):\n",
    "        row[f\"top_{i+1}\"] = items[i]\n",
    "        row[f\"score_{i+1}\"] = scores[i]\n",
    "    recs.append(row)\n",
    "\n",
    "recomendaciones_df = pd.DataFrame(recs)"
   ]
  },
  {
   "cell_type": "code",
   "execution_count": 37,
   "id": "27737ec9-3b1e-4ec4-a9a3-afd05fcd2088",
   "metadata": {},
   "outputs": [
    {
     "name": "stdout",
     "output_type": "stream",
     "text": [
      "(37410, 11)\n"
     ]
    },
    {
     "data": {
      "text/html": [
       "<div>\n",
       "<style scoped>\n",
       "    .dataframe tbody tr th:only-of-type {\n",
       "        vertical-align: middle;\n",
       "    }\n",
       "\n",
       "    .dataframe tbody tr th {\n",
       "        vertical-align: top;\n",
       "    }\n",
       "\n",
       "    .dataframe thead th {\n",
       "        text-align: right;\n",
       "    }\n",
       "</style>\n",
       "<table border=\"1\" class=\"dataframe\">\n",
       "  <thead>\n",
       "    <tr style=\"text-align: right;\">\n",
       "      <th></th>\n",
       "      <th>user_id</th>\n",
       "      <th>top_1</th>\n",
       "      <th>score_1</th>\n",
       "      <th>top_2</th>\n",
       "      <th>score_2</th>\n",
       "      <th>top_3</th>\n",
       "      <th>score_3</th>\n",
       "      <th>top_4</th>\n",
       "      <th>score_4</th>\n",
       "      <th>top_5</th>\n",
       "      <th>score_5</th>\n",
       "    </tr>\n",
       "  </thead>\n",
       "  <tbody>\n",
       "    <tr>\n",
       "      <th>0</th>\n",
       "      <td>1</td>\n",
       "      <td>transport</td>\n",
       "      <td>2.761947</td>\n",
       "      <td>link_cobro</td>\n",
       "      <td>0.450000</td>\n",
       "      <td>point</td>\n",
       "      <td>1.000000e-01</td>\n",
       "      <td>credits_consumer</td>\n",
       "      <td>6.994405e-15</td>\n",
       "      <td>send_money</td>\n",
       "      <td>-2.053913e-15</td>\n",
       "    </tr>\n",
       "    <tr>\n",
       "      <th>1</th>\n",
       "      <td>2</td>\n",
       "      <td>point</td>\n",
       "      <td>3.081106</td>\n",
       "      <td>send_money</td>\n",
       "      <td>2.475893</td>\n",
       "      <td>cellphone_recharge</td>\n",
       "      <td>1.000000e-01</td>\n",
       "      <td>prepaid</td>\n",
       "      <td>3.197442e-14</td>\n",
       "      <td>link_cobro</td>\n",
       "      <td>2.731149e-14</td>\n",
       "    </tr>\n",
       "    <tr>\n",
       "      <th>2</th>\n",
       "      <td>3</td>\n",
       "      <td>prepaid</td>\n",
       "      <td>3.316367</td>\n",
       "      <td>link_cobro</td>\n",
       "      <td>2.781171</td>\n",
       "      <td>point</td>\n",
       "      <td>1.287859e-14</td>\n",
       "      <td>cellphone_recharge</td>\n",
       "      <td>1.165734e-14</td>\n",
       "      <td>credits_consumer</td>\n",
       "      <td>3.330669e-16</td>\n",
       "    </tr>\n",
       "    <tr>\n",
       "      <th>3</th>\n",
       "      <td>4</td>\n",
       "      <td>link_cobro</td>\n",
       "      <td>0.350000</td>\n",
       "      <td>prepaid</td>\n",
       "      <td>0.100000</td>\n",
       "      <td>point</td>\n",
       "      <td>4.926615e-15</td>\n",
       "      <td>cellphone_recharge</td>\n",
       "      <td>4.121703e-15</td>\n",
       "      <td>transport</td>\n",
       "      <td>1.137979e-15</td>\n",
       "    </tr>\n",
       "    <tr>\n",
       "      <th>4</th>\n",
       "      <td>6</td>\n",
       "      <td>send_money</td>\n",
       "      <td>2.413785</td>\n",
       "      <td>prepaid</td>\n",
       "      <td>1.046654</td>\n",
       "      <td>cellphone_recharge</td>\n",
       "      <td>1.000000e-01</td>\n",
       "      <td>transport</td>\n",
       "      <td>2.664535e-15</td>\n",
       "      <td>link_cobro</td>\n",
       "      <td>9.992007e-16</td>\n",
       "    </tr>\n",
       "  </tbody>\n",
       "</table>\n",
       "</div>"
      ],
      "text/plain": [
       "   user_id       top_1   score_1       top_2   score_2               top_3  \\\n",
       "0        1   transport  2.761947  link_cobro  0.450000               point   \n",
       "1        2       point  3.081106  send_money  2.475893  cellphone_recharge   \n",
       "2        3     prepaid  3.316367  link_cobro  2.781171               point   \n",
       "3        4  link_cobro  0.350000     prepaid  0.100000               point   \n",
       "4        6  send_money  2.413785     prepaid  1.046654  cellphone_recharge   \n",
       "\n",
       "        score_3               top_4       score_4             top_5  \\\n",
       "0  1.000000e-01    credits_consumer  6.994405e-15        send_money   \n",
       "1  1.000000e-01             prepaid  3.197442e-14        link_cobro   \n",
       "2  1.287859e-14  cellphone_recharge  1.165734e-14  credits_consumer   \n",
       "3  4.926615e-15  cellphone_recharge  4.121703e-15         transport   \n",
       "4  1.000000e-01           transport  2.664535e-15        link_cobro   \n",
       "\n",
       "        score_5  \n",
       "0 -2.053913e-15  \n",
       "1  2.731149e-14  \n",
       "2  3.330669e-16  \n",
       "3  1.137979e-15  \n",
       "4  9.992007e-16  "
      ]
     },
     "execution_count": 37,
     "metadata": {},
     "output_type": "execute_result"
    }
   ],
   "source": [
    "print(recomendaciones_df.shape)\n",
    "recomendaciones_df.head(5)"
   ]
  },
  {
   "cell_type": "markdown",
   "id": "d02bb069-ef6b-4355-99f8-929f2bfb46f8",
   "metadata": {},
   "source": [
    "### Exportar predicciones"
   ]
  },
  {
   "cell_type": "code",
   "execution_count": 38,
   "id": "7623cde0-a8ab-4941-bc60-71d18561bea8",
   "metadata": {},
   "outputs": [],
   "source": [
    "recomendaciones_df.to_csv(\"../data/output_models/recommendations_SVD.csv\", index=False)"
   ]
  }
 ],
 "metadata": {
  "kernelspec": {
   "display_name": "Python 3 (ipykernel)",
   "language": "python",
   "name": "python3"
  },
  "language_info": {
   "codemirror_mode": {
    "name": "ipython",
    "version": 3
   },
   "file_extension": ".py",
   "mimetype": "text/x-python",
   "name": "python",
   "nbconvert_exporter": "python",
   "pygments_lexer": "ipython3",
   "version": "3.11.7"
  }
 },
 "nbformat": 4,
 "nbformat_minor": 5
}
